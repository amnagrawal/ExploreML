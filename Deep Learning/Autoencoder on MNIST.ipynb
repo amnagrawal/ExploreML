{
 "cells": [
  {
   "cell_type": "markdown",
   "metadata": {},
   "source": [
    "### Autoencoder"
   ]
  },
  {
   "cell_type": "markdown",
   "metadata": {},
   "source": [
    "###### Following this [url](https://blog.keras.io/building-autoencoders-in-keras.html)"
   ]
  },
  {
   "cell_type": "code",
   "execution_count": 1,
   "metadata": {},
   "outputs": [
    {
     "name": "stderr",
     "output_type": "stream",
     "text": [
      "Using TensorFlow backend.\n"
     ]
    }
   ],
   "source": [
    "from keras.layers import Input, Dense\n",
    "from keras.models import Model\n",
    "from keras.datasets import mnist\n",
    "from keras.callbacks import TensorBoard\n",
    "import numpy as np\n",
    "import matplotlib.pyplot as plt"
   ]
  },
  {
   "cell_type": "code",
   "execution_count": 2,
   "metadata": {},
   "outputs": [],
   "source": [
    "encoding_dim = 32\n",
    "\n",
    "input_img = Input(shape=(784,))\n",
    "\n",
    "# encoded in the encoded representation of the input\n",
    "encoded = Dense(encoding_dim, activation='relu')(input_img)\n",
    "\n",
    "# Decoded is the lossy reconstruction of the input\n",
    "decoded = Dense(784, activation='sigmoid')(encoded)\n",
    "\n",
    "# this model maps the input to its reconstruction\n",
    "autoencoder = Model(input_img, decoded)\n",
    "autoencoder.compile(optimizer='adadelta', loss='binary_crossentropy')"
   ]
  },
  {
   "cell_type": "code",
   "execution_count": 3,
   "metadata": {},
   "outputs": [],
   "source": [
    "# this model maps an input to its encoded representation\n",
    "encoder = Model(input_img, encoded)"
   ]
  },
  {
   "cell_type": "code",
   "execution_count": 4,
   "metadata": {},
   "outputs": [],
   "source": [
    "# create a placeholder for an encoded (32-dimensional) input\n",
    "encoded_input = Input(shape=(encoding_dim,))\n",
    "\n",
    "# retrieve the last layer of the autoencoder model\n",
    "decoder_layer = autoencoder.layers[-1]\n",
    "\n",
    "#create the decoder model\n",
    "decoder = Model(encoded_input, decoder_layer(encoded_input))"
   ]
  },
  {
   "cell_type": "code",
   "execution_count": 5,
   "metadata": {},
   "outputs": [],
   "source": [
    "(x_train, _), (x_test, _) = mnist.load_data() "
   ]
  },
  {
   "cell_type": "code",
   "execution_count": 6,
   "metadata": {},
   "outputs": [
    {
     "name": "stdout",
     "output_type": "stream",
     "text": [
      "(60000, 784)\n",
      "(10000, 784)\n"
     ]
    }
   ],
   "source": [
    "#normalize and flatten the 28x28 images into vectors of size 784\n",
    "x_train = x_train.astype('float32') / 255.\n",
    "x_test = x_test.astype('float32') / 255.\n",
    "x_train = x_train.reshape((len(x_train), np.prod(x_train.shape[1:])))\n",
    "x_test = x_test.reshape((len(x_test), np.prod(x_test.shape[1:])))\n",
    "print(x_train.shape)\n",
    "print(x_test.shape)"
   ]
  },
  {
   "cell_type": "code",
   "execution_count": 7,
   "metadata": {
    "scrolled": true
   },
   "outputs": [
    {
     "name": "stdout",
     "output_type": "stream",
     "text": [
      "Epoch 1/50\n",
      "60000/60000 [==============================] - 3s 56us/step - loss: 0.3580\n",
      "Epoch 2/50\n",
      "60000/60000 [==============================] - 1s 10us/step - loss: 0.2669\n",
      "Epoch 3/50\n",
      "60000/60000 [==============================] - 1s 11us/step - loss: 0.2476\n",
      "Epoch 4/50\n",
      "60000/60000 [==============================] - 1s 10us/step - loss: 0.2256\n",
      "Epoch 5/50\n",
      "60000/60000 [==============================] - 1s 10us/step - loss: 0.2092\n",
      "Epoch 6/50\n",
      "60000/60000 [==============================] - 1s 10us/step - loss: 0.1978\n",
      "Epoch 7/50\n",
      "60000/60000 [==============================] - 1s 11us/step - loss: 0.1891\n",
      "Epoch 8/50\n",
      "60000/60000 [==============================] - 1s 10us/step - loss: 0.1820\n",
      "Epoch 9/50\n",
      "60000/60000 [==============================] - 1s 10us/step - loss: 0.1759\n",
      "Epoch 10/50\n",
      "60000/60000 [==============================] - 1s 10us/step - loss: 0.1707\n",
      "Epoch 11/50\n",
      "60000/60000 [==============================] - 1s 10us/step - loss: 0.1661\n",
      "Epoch 12/50\n",
      "60000/60000 [==============================] - 1s 10us/step - loss: 0.1619\n",
      "Epoch 13/50\n",
      "60000/60000 [==============================] - 1s 10us/step - loss: 0.1580\n",
      "Epoch 14/50\n",
      "60000/60000 [==============================] - 1s 10us/step - loss: 0.1544\n",
      "Epoch 15/50\n",
      "60000/60000 [==============================] - 1s 10us/step - loss: 0.1510\n",
      "Epoch 16/50\n",
      "60000/60000 [==============================] - 1s 10us/step - loss: 0.1478\n",
      "Epoch 17/50\n",
      "60000/60000 [==============================] - 1s 10us/step - loss: 0.1449\n",
      "Epoch 18/50\n",
      "60000/60000 [==============================] - 1s 10us/step - loss: 0.1421\n",
      "Epoch 19/50\n",
      "60000/60000 [==============================] - 1s 11us/step - loss: 0.1395\n",
      "Epoch 20/50\n",
      "60000/60000 [==============================] - 1s 10us/step - loss: 0.1370\n",
      "Epoch 21/50\n",
      "60000/60000 [==============================] - 1s 10us/step - loss: 0.1347\n",
      "Epoch 22/50\n",
      "60000/60000 [==============================] - 1s 10us/step - loss: 0.1325\n",
      "Epoch 23/50\n",
      "60000/60000 [==============================] - 1s 11us/step - loss: 0.1304\n",
      "Epoch 24/50\n",
      "60000/60000 [==============================] - 1s 10us/step - loss: 0.1285\n",
      "Epoch 25/50\n",
      "60000/60000 [==============================] - 1s 10us/step - loss: 0.1266\n",
      "Epoch 26/50\n",
      "60000/60000 [==============================] - 1s 10us/step - loss: 0.1248\n",
      "Epoch 27/50\n",
      "60000/60000 [==============================] - 1s 11us/step - loss: 0.1230\n",
      "Epoch 28/50\n",
      "60000/60000 [==============================] - 1s 12us/step - loss: 0.1214\n",
      "Epoch 29/50\n",
      "60000/60000 [==============================] - 1s 10us/step - loss: 0.1199\n",
      "Epoch 30/50\n",
      "60000/60000 [==============================] - 1s 10us/step - loss: 0.1185\n",
      "Epoch 31/50\n",
      "60000/60000 [==============================] - 1s 11us/step - loss: 0.1171\n",
      "Epoch 32/50\n",
      "60000/60000 [==============================] - 1s 10us/step - loss: 0.1159\n",
      "Epoch 33/50\n",
      "60000/60000 [==============================] - 1s 11us/step - loss: 0.1147\n",
      "Epoch 34/50\n",
      "60000/60000 [==============================] - 1s 11us/step - loss: 0.1137\n",
      "Epoch 35/50\n",
      "60000/60000 [==============================] - 1s 10us/step - loss: 0.1127\n",
      "Epoch 36/50\n",
      "60000/60000 [==============================] - 1s 10us/step - loss: 0.1118\n",
      "Epoch 37/50\n",
      "60000/60000 [==============================] - 1s 10us/step - loss: 0.1109\n",
      "Epoch 38/50\n",
      "60000/60000 [==============================] - 1s 10us/step - loss: 0.1101\n",
      "Epoch 39/50\n",
      "60000/60000 [==============================] - 1s 10us/step - loss: 0.1094\n",
      "Epoch 40/50\n",
      "60000/60000 [==============================] - 1s 10us/step - loss: 0.1087\n",
      "Epoch 41/50\n",
      "60000/60000 [==============================] - 1s 10us/step - loss: 0.1081\n",
      "Epoch 42/50\n",
      "60000/60000 [==============================] - 1s 10us/step - loss: 0.1075\n",
      "Epoch 43/50\n",
      "60000/60000 [==============================] - 1s 10us/step - loss: 0.1069\n",
      "Epoch 44/50\n",
      "60000/60000 [==============================] - 1s 10us/step - loss: 0.1064\n",
      "Epoch 45/50\n",
      "60000/60000 [==============================] - 1s 10us/step - loss: 0.1059\n",
      "Epoch 46/50\n",
      "60000/60000 [==============================] - 1s 10us/step - loss: 0.1054\n",
      "Epoch 47/50\n",
      "60000/60000 [==============================] - 1s 10us/step - loss: 0.1049\n",
      "Epoch 48/50\n",
      "60000/60000 [==============================] - 1s 10us/step - loss: 0.1045\n",
      "Epoch 49/50\n",
      "60000/60000 [==============================] - 1s 10us/step - loss: 0.1041\n",
      "Epoch 50/50\n",
      "60000/60000 [==============================] - 1s 10us/step - loss: 0.1037\n"
     ]
    },
    {
     "data": {
      "text/plain": [
       "<keras.callbacks.History at 0x7f0e7d0dbc18>"
      ]
     },
     "execution_count": 7,
     "metadata": {},
     "output_type": "execute_result"
    }
   ],
   "source": [
    "tensorboard = TensorBoard(log_dir=\"./../TBlogs/\")\n",
    "autoencoder.fit(x_train, x_train, epochs = 50, batch_size=256, shuffle=True, )"
   ]
  },
  {
   "cell_type": "code",
   "execution_count": 14,
   "metadata": {},
   "outputs": [],
   "source": [
    "encoded_imgs = encoder.predict(x_test)\n",
    "decoded_imgs = decoder.predict(encoded_imgs)"
   ]
  },
  {
   "cell_type": "code",
   "execution_count": 23,
   "metadata": {},
   "outputs": [],
   "source": [
    "def display_result(autoencoder, x_test):\n",
    "    \n",
    "    decoded_imgs = autoencoder.predict(x_test)\n",
    "    n=10\n",
    "    plt.figure(figsize=(20,4))\n",
    "\n",
    "    for i in range(n):\n",
    "        # Display original\n",
    "        ax = plt.subplot(2, n, i+1)\n",
    "        plt.imshow(x_test[i].reshape(28, 28))\n",
    "        plt.gray()\n",
    "        ax.get_xaxis().set_visible(False)\n",
    "        ax.get_yaxis().set_visible(False)\n",
    "\n",
    "        # Display reconstruction\n",
    "        ax = plt.subplot(2, n, i+1+n)\n",
    "        plt.imshow(decoded_imgs[i].reshape(28, 28))\n",
    "        plt.gray()\n",
    "        ax.get_xaxis().set_visible(False)\n",
    "        ax.get_yaxis().set_visible(False)\n",
    "    plt.show()"
   ]
  },
  {
   "cell_type": "code",
   "execution_count": 25,
   "metadata": {},
   "outputs": [
    {
     "data": {
      "image/png": "[encoded data removed]",
      "text/plain": [
       "<Figure size 1440x288 with 20 Axes>"
      ]
     },
     "metadata": {},
     "output_type": "display_data"
    }
   ],
   "source": [
    "display_result(autoencoder, x_test)"
   ]
  },
  {
   "cell_type": "markdown",
   "metadata": {},
   "source": [
    "###### Adding a sparsity constraint on the encoded representations"
   ]
  },
  {
   "cell_type": "code",
   "execution_count": 10,
   "metadata": {},
   "outputs": [],
   "source": [
    "from keras import regularizers\n",
    "\n",
    "encoded = Dense(encoding_dim, activation = 'relu',\n",
    "                activity_regularizer = regularizers.l1(10e-5))(input_img)\n",
    "decoded = Dense(784, activation='sigmoid')(encoded)\n",
    "\n",
    "autoencoder = Model(input_img, decoded)\n",
    "autoencoder.compile(optimizer='adadelta', loss='binary_crossentropy')"
   ]
  },
  {
   "cell_type": "code",
   "execution_count": 11,
   "metadata": {
    "scrolled": true
   },
   "outputs": [
    {
     "name": "stdout",
     "output_type": "stream",
     "text": [
      "Epoch 1/50\n",
      "60000/60000 [==============================] - 1s 13us/step - loss: 0.6725\n",
      "Epoch 2/50\n",
      "60000/60000 [==============================] - 1s 11us/step - loss: 0.6284\n",
      "Epoch 3/50\n",
      "60000/60000 [==============================] - 1s 10us/step - loss: 0.5916\n",
      "Epoch 4/50\n",
      "60000/60000 [==============================] - 1s 10us/step - loss: 0.5598\n",
      "Epoch 5/50\n",
      "60000/60000 [==============================] - 1s 11us/step - loss: 0.5323\n",
      "Epoch 6/50\n",
      "60000/60000 [==============================] - 1s 10us/step - loss: 0.5084\n",
      "Epoch 7/50\n",
      "60000/60000 [==============================] - 1s 11us/step - loss: 0.4875\n",
      "Epoch 8/50\n",
      "60000/60000 [==============================] - 1s 11us/step - loss: 0.4692\n",
      "Epoch 9/50\n",
      "60000/60000 [==============================] - 1s 11us/step - loss: 0.4531\n",
      "Epoch 10/50\n",
      "60000/60000 [==============================] - 1s 10us/step - loss: 0.4388\n",
      "Epoch 11/50\n",
      "60000/60000 [==============================] - 1s 11us/step - loss: 0.4262\n",
      "Epoch 12/50\n",
      "60000/60000 [==============================] - 1s 10us/step - loss: 0.4150\n",
      "Epoch 13/50\n",
      "60000/60000 [==============================] - 1s 11us/step - loss: 0.4049\n",
      "Epoch 14/50\n",
      "60000/60000 [==============================] - 1s 11us/step - loss: 0.3959\n",
      "Epoch 15/50\n",
      "60000/60000 [==============================] - 1s 10us/step - loss: 0.3877\n",
      "Epoch 16/50\n",
      "60000/60000 [==============================] - 1s 10us/step - loss: 0.3804\n",
      "Epoch 17/50\n",
      "60000/60000 [==============================] - 1s 11us/step - loss: 0.3737\n",
      "Epoch 18/50\n",
      "60000/60000 [==============================] - 1s 10us/step - loss: 0.3676\n",
      "Epoch 19/50\n",
      "60000/60000 [==============================] - 1s 10us/step - loss: 0.3621\n",
      "Epoch 20/50\n",
      "60000/60000 [==============================] - 1s 11us/step - loss: 0.3570\n",
      "Epoch 21/50\n",
      "60000/60000 [==============================] - 1s 10us/step - loss: 0.3524\n",
      "Epoch 22/50\n",
      "60000/60000 [==============================] - 1s 11us/step - loss: 0.3481\n",
      "Epoch 23/50\n",
      "60000/60000 [==============================] - 1s 10us/step - loss: 0.3442\n",
      "Epoch 24/50\n",
      "60000/60000 [==============================] - 1s 11us/step - loss: 0.3406\n",
      "Epoch 25/50\n",
      "60000/60000 [==============================] - 1s 10us/step - loss: 0.3372\n",
      "Epoch 26/50\n",
      "60000/60000 [==============================] - 1s 10us/step - loss: 0.3341\n",
      "Epoch 27/50\n",
      "60000/60000 [==============================] - 1s 11us/step - loss: 0.3312\n",
      "Epoch 28/50\n",
      "60000/60000 [==============================] - 1s 10us/step - loss: 0.3285\n",
      "Epoch 29/50\n",
      "60000/60000 [==============================] - 1s 10us/step - loss: 0.3259\n",
      "Epoch 30/50\n",
      "60000/60000 [==============================] - 1s 11us/step - loss: 0.3236\n",
      "Epoch 31/50\n",
      "60000/60000 [==============================] - 1s 10us/step - loss: 0.3213\n",
      "Epoch 32/50\n",
      "60000/60000 [==============================] - 1s 10us/step - loss: 0.3193\n",
      "Epoch 33/50\n",
      "60000/60000 [==============================] - 1s 10us/step - loss: 0.3173\n",
      "Epoch 34/50\n",
      "60000/60000 [==============================] - 1s 10us/step - loss: 0.3155\n",
      "Epoch 35/50\n",
      "60000/60000 [==============================] - 1s 11us/step - loss: 0.3138\n",
      "Epoch 36/50\n",
      "60000/60000 [==============================] - 1s 10us/step - loss: 0.3121\n",
      "Epoch 37/50\n",
      "60000/60000 [==============================] - 1s 11us/step - loss: 0.3106\n",
      "Epoch 38/50\n",
      "60000/60000 [==============================] - 1s 10us/step - loss: 0.3091\n",
      "Epoch 39/50\n",
      "60000/60000 [==============================] - 1s 10us/step - loss: 0.3077\n",
      "Epoch 40/50\n",
      "60000/60000 [==============================] - 1s 11us/step - loss: 0.3064\n",
      "Epoch 41/50\n",
      "60000/60000 [==============================] - 1s 10us/step - loss: 0.3052\n",
      "Epoch 42/50\n",
      "60000/60000 [==============================] - 1s 14us/step - loss: 0.3040\n",
      "Epoch 43/50\n",
      "60000/60000 [==============================] - 1s 11us/step - loss: 0.3029\n",
      "Epoch 44/50\n",
      "60000/60000 [==============================] - 1s 11us/step - loss: 0.3018\n",
      "Epoch 45/50\n",
      "60000/60000 [==============================] - 1s 11us/step - loss: 0.3008\n",
      "Epoch 46/50\n",
      "60000/60000 [==============================] - 1s 11us/step - loss: 0.2998\n",
      "Epoch 47/50\n",
      "60000/60000 [==============================] - 1s 11us/step - loss: 0.2989\n",
      "Epoch 48/50\n",
      "60000/60000 [==============================] - 1s 11us/step - loss: 0.2980\n",
      "Epoch 49/50\n",
      "60000/60000 [==============================] - 1s 11us/step - loss: 0.2971\n",
      "Epoch 50/50\n",
      "60000/60000 [==============================] - 1s 11us/step - loss: 0.2963\n"
     ]
    },
    {
     "data": {
      "text/plain": [
       "<keras.callbacks.History at 0x7f0e507b0fd0>"
      ]
     },
     "execution_count": 11,
     "metadata": {},
     "output_type": "execute_result"
    }
   ],
   "source": [
    "tensorboard = TensorBoard(log_dir=\"./../TBlogs/\")\n",
    "autoencoder.fit(x_train, x_train, epochs = 50, batch_size=256, shuffle=True, )"
   ]
  },
  {
   "cell_type": "code",
   "execution_count": 15,
   "metadata": {},
   "outputs": [
    {
     "data": {
      "image/png": "[encoded data removed]",
      "text/plain": [
       "<Figure size 1440x288 with 20 Axes>"
      ]
     },
     "metadata": {},
     "output_type": "display_data"
    }
   ],
   "source": [
    "encoded_imgs = encoder.predict(x_test)\n",
    "decoded_imgs = decoder.predict(encoded_imgs)\n",
    "display_result(encoded_imgs=encoded_imgs, decoded_imgs=decoded_imgs)"
   ]
  },
  {
   "cell_type": "markdown",
   "metadata": {},
   "source": [
    "### Deep autoencoder"
   ]
  },
  {
   "cell_type": "code",
   "execution_count": 16,
   "metadata": {},
   "outputs": [],
   "source": [
    "input_imt = Input(shape=(784,))\n",
    "encoded = Dense(128, activation='relu')(input_img)\n",
    "encoded = Dense(64, activation='relu')(encoded)\n",
    "encoded = Dense(32, activation='relu')(encoded)\n",
    "\n",
    "decoded = Dense(64, activation='relu')(encoded)\n",
    "decoded = Dense(128, activation='relu')(decoded)\n",
    "decoded = Dense(784, activation='relu')(decoded)"
   ]
  },
  {
   "cell_type": "code",
   "execution_count": 17,
   "metadata": {},
   "outputs": [
    {
     "name": "stdout",
     "output_type": "stream",
     "text": [
      "Train on 60000 samples, validate on 10000 samples\n",
      "Epoch 1/100\n",
      "60000/60000 [==============================] - 1s 22us/step - loss: 0.5527 - val_loss: 0.5157\n",
      "Epoch 2/100\n",
      "60000/60000 [==============================] - 1s 16us/step - loss: 0.4248 - val_loss: 0.3897\n",
      "Epoch 3/100\n",
      "60000/60000 [==============================] - 1s 16us/step - loss: 0.3730 - val_loss: 0.3631\n",
      "Epoch 4/100\n",
      "60000/60000 [==============================] - 1s 16us/step - loss: 0.3519 - val_loss: 0.3309\n",
      "Epoch 5/100\n",
      "60000/60000 [==============================] - 1s 16us/step - loss: 0.3258 - val_loss: 0.3199\n",
      "Epoch 6/100\n",
      "60000/60000 [==============================] - 1s 16us/step - loss: 0.3072 - val_loss: 0.3080\n",
      "Epoch 7/100\n",
      "60000/60000 [==============================] - 1s 16us/step - loss: 0.2869 - val_loss: 0.2760\n",
      "Epoch 8/100\n",
      "60000/60000 [==============================] - 1s 16us/step - loss: 0.2775 - val_loss: 0.2738\n",
      "Epoch 9/100\n",
      "60000/60000 [==============================] - 1s 16us/step - loss: 0.2728 - val_loss: 0.2669\n",
      "Epoch 10/100\n",
      "60000/60000 [==============================] - 1s 16us/step - loss: 0.2653 - val_loss: 0.2606\n",
      "Epoch 11/100\n",
      "60000/60000 [==============================] - 1s 16us/step - loss: 0.2592 - val_loss: 0.2651\n",
      "Epoch 12/100\n",
      "60000/60000 [==============================] - 1s 16us/step - loss: 0.2567 - val_loss: 0.2692\n",
      "Epoch 13/100\n",
      "60000/60000 [==============================] - 1s 16us/step - loss: 0.2531 - val_loss: 0.2459\n",
      "Epoch 14/100\n",
      "60000/60000 [==============================] - 1s 16us/step - loss: 0.2517 - val_loss: 0.2522\n",
      "Epoch 15/100\n",
      "60000/60000 [==============================] - 1s 16us/step - loss: 0.2467 - val_loss: 0.2396\n",
      "Epoch 16/100\n",
      "60000/60000 [==============================] - 1s 16us/step - loss: 0.2417 - val_loss: 0.2369\n",
      "Epoch 17/100\n",
      "60000/60000 [==============================] - 1s 17us/step - loss: 0.2401 - val_loss: 0.2383\n",
      "Epoch 18/100\n",
      "60000/60000 [==============================] - 1s 16us/step - loss: 0.2364 - val_loss: 0.2283\n",
      "Epoch 19/100\n",
      "60000/60000 [==============================] - 1s 16us/step - loss: 0.2331 - val_loss: 0.2283\n",
      "Epoch 20/100\n",
      "60000/60000 [==============================] - 1s 16us/step - loss: 0.2305 - val_loss: 0.2341\n",
      "Epoch 21/100\n",
      "60000/60000 [==============================] - 1s 16us/step - loss: 0.2242 - val_loss: 0.2145\n",
      "Epoch 22/100\n",
      "60000/60000 [==============================] - 1s 17us/step - loss: 0.2176 - val_loss: 0.2125\n",
      "Epoch 23/100\n",
      "60000/60000 [==============================] - 1s 16us/step - loss: 0.2160 - val_loss: 0.2173\n",
      "Epoch 24/100\n",
      "60000/60000 [==============================] - 1s 16us/step - loss: 0.2149 - val_loss: 0.2105\n",
      "Epoch 25/100\n",
      "60000/60000 [==============================] - 1s 16us/step - loss: 0.2151 - val_loss: 0.2179\n",
      "Epoch 26/100\n",
      "60000/60000 [==============================] - 1s 16us/step - loss: 0.2125 - val_loss: 0.2046\n",
      "Epoch 27/100\n",
      "60000/60000 [==============================] - 1s 16us/step - loss: 0.1994 - val_loss: 0.1903\n",
      "Epoch 28/100\n",
      "60000/60000 [==============================] - 1s 16us/step - loss: 0.1948 - val_loss: 0.1874\n",
      "Epoch 29/100\n",
      "60000/60000 [==============================] - 1s 16us/step - loss: 0.1919 - val_loss: 0.1872\n",
      "Epoch 30/100\n",
      "60000/60000 [==============================] - 1s 16us/step - loss: 0.1902 - val_loss: 0.1853\n",
      "Epoch 31/100\n",
      "60000/60000 [==============================] - 1s 16us/step - loss: 0.1900 - val_loss: 0.1853\n",
      "Epoch 32/100\n",
      "60000/60000 [==============================] - 1s 16us/step - loss: 0.1879 - val_loss: 0.1818\n",
      "Epoch 33/100\n",
      "60000/60000 [==============================] - 1s 16us/step - loss: 0.1794 - val_loss: 0.1730\n",
      "Epoch 34/100\n",
      "60000/60000 [==============================] - 1s 16us/step - loss: 0.1761 - val_loss: 0.2052\n",
      "Epoch 35/100\n",
      "60000/60000 [==============================] - 1s 16us/step - loss: 0.1753 - val_loss: 0.1625\n",
      "Epoch 36/100\n",
      "60000/60000 [==============================] - 1s 16us/step - loss: 0.1688 - val_loss: 0.1624\n",
      "Epoch 37/100\n",
      "60000/60000 [==============================] - 1s 16us/step - loss: 0.1659 - val_loss: 0.1610\n",
      "Epoch 38/100\n",
      "60000/60000 [==============================] - 1s 16us/step - loss: 0.1655 - val_loss: 0.1649\n",
      "Epoch 39/100\n",
      "60000/60000 [==============================] - 1s 16us/step - loss: 0.1659 - val_loss: 0.1600\n",
      "Epoch 40/100\n",
      "60000/60000 [==============================] - 1s 16us/step - loss: 0.1656 - val_loss: 0.1605\n",
      "Epoch 41/100\n",
      "60000/60000 [==============================] - 1s 16us/step - loss: 0.1644 - val_loss: 0.1595\n",
      "Epoch 42/100\n",
      "60000/60000 [==============================] - 1s 18us/step - loss: 0.1635 - val_loss: 0.1808\n",
      "Epoch 43/100\n",
      "60000/60000 [==============================] - 1s 17us/step - loss: 0.1627 - val_loss: 0.1580\n",
      "Epoch 44/100\n",
      "60000/60000 [==============================] - 1s 16us/step - loss: 0.1651 - val_loss: 0.1582\n",
      "Epoch 45/100\n",
      "60000/60000 [==============================] - 1s 16us/step - loss: 0.1600 - val_loss: 0.1591\n",
      "Epoch 46/100\n",
      "60000/60000 [==============================] - 1s 16us/step - loss: 0.1582 - val_loss: 0.1562\n",
      "Epoch 47/100\n",
      "60000/60000 [==============================] - 1s 16us/step - loss: 0.1576 - val_loss: 0.1691\n",
      "Epoch 48/100\n",
      "60000/60000 [==============================] - 1s 16us/step - loss: 0.1546 - val_loss: 0.1499\n",
      "Epoch 49/100\n",
      "60000/60000 [==============================] - 1s 16us/step - loss: 0.1524 - val_loss: 0.1481\n",
      "Epoch 50/100\n",
      "60000/60000 [==============================] - 1s 16us/step - loss: 0.1520 - val_loss: 0.1470\n",
      "Epoch 51/100\n",
      "60000/60000 [==============================] - 1s 17us/step - loss: 0.1520 - val_loss: 0.1467\n",
      "Epoch 52/100\n",
      "60000/60000 [==============================] - 1s 19us/step - loss: 0.1513 - val_loss: 0.1935\n",
      "Epoch 53/100\n",
      "60000/60000 [==============================] - 1s 17us/step - loss: 0.1520 - val_loss: 0.1452\n",
      "Epoch 54/100\n",
      "60000/60000 [==============================] - 1s 17us/step - loss: 0.1517 - val_loss: 0.1458\n",
      "Epoch 55/100\n",
      "60000/60000 [==============================] - 1s 16us/step - loss: 0.1510 - val_loss: 0.1481\n",
      "Epoch 56/100\n",
      "60000/60000 [==============================] - 1s 16us/step - loss: 0.1508 - val_loss: 0.1452\n",
      "Epoch 57/100\n",
      "60000/60000 [==============================] - 1s 16us/step - loss: 0.1499 - val_loss: 0.1450\n",
      "Epoch 58/100\n",
      "60000/60000 [==============================] - 1s 16us/step - loss: 0.1499 - val_loss: 0.1447\n",
      "Epoch 59/100\n",
      "60000/60000 [==============================] - 1s 16us/step - loss: 0.1495 - val_loss: 0.1447\n",
      "Epoch 60/100\n",
      "60000/60000 [==============================] - 1s 16us/step - loss: 0.1496 - val_loss: 0.1491\n",
      "Epoch 61/100\n",
      "60000/60000 [==============================] - 1s 16us/step - loss: 0.1498 - val_loss: 0.1457\n",
      "Epoch 62/100\n",
      "60000/60000 [==============================] - 1s 16us/step - loss: 0.1479 - val_loss: 0.1592\n",
      "Epoch 63/100\n",
      "60000/60000 [==============================] - 1s 16us/step - loss: 0.1480 - val_loss: 0.1431\n",
      "Epoch 64/100\n",
      "60000/60000 [==============================] - 1s 16us/step - loss: 0.1473 - val_loss: 0.1430\n",
      "Epoch 65/100\n",
      "60000/60000 [==============================] - 1s 16us/step - loss: 0.1481 - val_loss: 0.1476\n",
      "Epoch 66/100\n",
      "60000/60000 [==============================] - 1s 16us/step - loss: 0.1489 - val_loss: 0.1561\n",
      "Epoch 67/100\n",
      "60000/60000 [==============================] - 1s 16us/step - loss: 0.1486 - val_loss: 0.1461\n",
      "Epoch 68/100\n",
      "60000/60000 [==============================] - 1s 16us/step - loss: 0.1505 - val_loss: 0.1465\n",
      "Epoch 69/100\n",
      "60000/60000 [==============================] - 1s 16us/step - loss: 0.1466 - val_loss: 0.1421\n",
      "Epoch 70/100\n",
      "60000/60000 [==============================] - 1s 19us/step - loss: 0.1503 - val_loss: 0.1458\n",
      "Epoch 71/100\n",
      "60000/60000 [==============================] - 1s 17us/step - loss: 0.1486 - val_loss: 0.1471\n",
      "Epoch 72/100\n",
      "60000/60000 [==============================] - 1s 16us/step - loss: 0.1480 - val_loss: 0.1425\n",
      "Epoch 73/100\n",
      "60000/60000 [==============================] - 1s 16us/step - loss: 0.1465 - val_loss: 0.1410\n",
      "Epoch 74/100\n",
      "60000/60000 [==============================] - 1s 16us/step - loss: 0.1461 - val_loss: 0.1431\n",
      "Epoch 75/100\n",
      "60000/60000 [==============================] - 1s 16us/step - loss: 0.1412 - val_loss: 0.1407\n",
      "Epoch 76/100\n",
      "60000/60000 [==============================] - 1s 16us/step - loss: 0.1402 - val_loss: 0.1452\n",
      "Epoch 77/100\n"
     ]
    },
    {
     "name": "stdout",
     "output_type": "stream",
     "text": [
      "60000/60000 [==============================] - 1s 19us/step - loss: 0.1417 - val_loss: 0.1375\n",
      "Epoch 78/100\n",
      "60000/60000 [==============================] - 1s 18us/step - loss: 0.1405 - val_loss: 0.1343\n",
      "Epoch 79/100\n",
      "60000/60000 [==============================] - 1s 17us/step - loss: 0.1402 - val_loss: 0.1764\n",
      "Epoch 80/100\n",
      "60000/60000 [==============================] - 1s 16us/step - loss: 0.1392 - val_loss: 0.1327\n",
      "Epoch 81/100\n",
      "60000/60000 [==============================] - 1s 16us/step - loss: 0.1379 - val_loss: 0.1335\n",
      "Epoch 82/100\n",
      "60000/60000 [==============================] - 1s 16us/step - loss: 0.1418 - val_loss: 0.1343\n",
      "Epoch 83/100\n",
      "60000/60000 [==============================] - 1s 16us/step - loss: 0.1381 - val_loss: 0.1368\n",
      "Epoch 84/100\n",
      "60000/60000 [==============================] - 1s 16us/step - loss: 0.1385 - val_loss: 0.1364\n",
      "Epoch 85/100\n",
      "60000/60000 [==============================] - 1s 16us/step - loss: 0.1389 - val_loss: 0.1351\n",
      "Epoch 86/100\n",
      "60000/60000 [==============================] - 1s 17us/step - loss: 0.1381 - val_loss: 0.1325\n",
      "Epoch 87/100\n",
      "60000/60000 [==============================] - 1s 17us/step - loss: 0.1393 - val_loss: 0.1328\n",
      "Epoch 88/100\n",
      "60000/60000 [==============================] - 1s 16us/step - loss: 0.1376 - val_loss: 0.1315\n",
      "Epoch 89/100\n",
      "60000/60000 [==============================] - 1s 17us/step - loss: 0.1381 - val_loss: 0.1334\n",
      "Epoch 90/100\n",
      "60000/60000 [==============================] - 1s 16us/step - loss: 0.1372 - val_loss: 0.1350\n",
      "Epoch 91/100\n",
      "60000/60000 [==============================] - 1s 16us/step - loss: 0.1369 - val_loss: 0.1334\n",
      "Epoch 92/100\n",
      "60000/60000 [==============================] - 1s 17us/step - loss: 0.1370 - val_loss: 0.1318\n",
      "Epoch 93/100\n",
      "60000/60000 [==============================] - 1s 16us/step - loss: 0.1357 - val_loss: 0.1302\n",
      "Epoch 94/100\n",
      "60000/60000 [==============================] - 1s 16us/step - loss: 0.1383 - val_loss: 0.1308\n",
      "Epoch 95/100\n",
      "60000/60000 [==============================] - 1s 16us/step - loss: 0.1367 - val_loss: 0.1378\n",
      "Epoch 96/100\n",
      "60000/60000 [==============================] - 1s 16us/step - loss: 0.1375 - val_loss: 0.1346\n",
      "Epoch 97/100\n",
      "60000/60000 [==============================] - 1s 16us/step - loss: 0.1363 - val_loss: 0.1348\n",
      "Epoch 98/100\n",
      "60000/60000 [==============================] - 1s 16us/step - loss: 0.1375 - val_loss: 0.1437\n",
      "Epoch 99/100\n",
      "60000/60000 [==============================] - 1s 17us/step - loss: 0.1364 - val_loss: 0.1340\n",
      "Epoch 100/100\n",
      "60000/60000 [==============================] - 1s 17us/step - loss: 0.1389 - val_loss: 0.1319\n"
     ]
    },
    {
     "data": {
      "text/plain": [
       "<keras.callbacks.History at 0x7f0e007ed438>"
      ]
     },
     "execution_count": 17,
     "metadata": {},
     "output_type": "execute_result"
    }
   ],
   "source": [
    "autoencoder = Model(input_img, decoded)\n",
    "autoencoder.compile(optimizer='adadelta', loss='binary_crossentropy')\n",
    "\n",
    "autoencoder.fit(x_train, x_train,\n",
    "               epochs=100,\n",
    "               batch_size=256,\n",
    "               shuffle=True,\n",
    "               validation_data=(x_test, x_test))"
   ]
  },
  {
   "cell_type": "code",
   "execution_count": 26,
   "metadata": {},
   "outputs": [
    {
     "ename": "ValueError",
     "evalue": "Error when checking input: expected input_1 to have 2 dimensions, but got array with shape (10000, 28, 28, 1)",
     "output_type": "error",
     "traceback": [
      "\u001b[0;31m---------------------------------------------------------------------------\u001b[0m",
      "\u001b[0;31mValueError\u001b[0m                                Traceback (most recent call last)",
      "\u001b[0;32m<ipython-input-26-180bdb5e43a4>\u001b[0m in \u001b[0;36m<module>\u001b[0;34m()\u001b[0m\n\u001b[0;32m----> 1\u001b[0;31m \u001b[0mencoded_imgs\u001b[0m \u001b[0;34m=\u001b[0m \u001b[0mencoder\u001b[0m\u001b[0;34m.\u001b[0m\u001b[0mpredict\u001b[0m\u001b[0;34m(\u001b[0m\u001b[0mx_test\u001b[0m\u001b[0;34m)\u001b[0m\u001b[0;34m\u001b[0m\u001b[0m\n\u001b[0m\u001b[1;32m      2\u001b[0m \u001b[0mdecoded_imgs\u001b[0m \u001b[0;34m=\u001b[0m \u001b[0mdecoder\u001b[0m\u001b[0;34m.\u001b[0m\u001b[0mpredict\u001b[0m\u001b[0;34m(\u001b[0m\u001b[0mencoded_imgs\u001b[0m\u001b[0;34m)\u001b[0m\u001b[0;34m\u001b[0m\u001b[0m\n\u001b[1;32m      3\u001b[0m \u001b[0mdisplay_result\u001b[0m\u001b[0;34m(\u001b[0m\u001b[0mautoencoder\u001b[0m\u001b[0;34m,\u001b[0m \u001b[0mx_test\u001b[0m\u001b[0;34m)\u001b[0m\u001b[0;34m\u001b[0m\u001b[0m\n",
      "\u001b[0;32m~/.local/lib/python3.6/site-packages/keras/engine/training.py\u001b[0m in \u001b[0;36mpredict\u001b[0;34m(self, x, batch_size, verbose, steps)\u001b[0m\n\u001b[1;32m   1150\u001b[0m                              'argument.')\n\u001b[1;32m   1151\u001b[0m         \u001b[0;31m# Validate user data.\u001b[0m\u001b[0;34m\u001b[0m\u001b[0;34m\u001b[0m\u001b[0m\n\u001b[0;32m-> 1152\u001b[0;31m         \u001b[0mx\u001b[0m\u001b[0;34m,\u001b[0m \u001b[0m_\u001b[0m\u001b[0;34m,\u001b[0m \u001b[0m_\u001b[0m \u001b[0;34m=\u001b[0m \u001b[0mself\u001b[0m\u001b[0;34m.\u001b[0m\u001b[0m_standardize_user_data\u001b[0m\u001b[0;34m(\u001b[0m\u001b[0mx\u001b[0m\u001b[0;34m)\u001b[0m\u001b[0;34m\u001b[0m\u001b[0m\n\u001b[0m\u001b[1;32m   1153\u001b[0m         \u001b[0;32mif\u001b[0m \u001b[0mself\u001b[0m\u001b[0;34m.\u001b[0m\u001b[0mstateful\u001b[0m\u001b[0;34m:\u001b[0m\u001b[0;34m\u001b[0m\u001b[0m\n\u001b[1;32m   1154\u001b[0m             \u001b[0;32mif\u001b[0m \u001b[0mx\u001b[0m\u001b[0;34m[\u001b[0m\u001b[0;36m0\u001b[0m\u001b[0;34m]\u001b[0m\u001b[0;34m.\u001b[0m\u001b[0mshape\u001b[0m\u001b[0;34m[\u001b[0m\u001b[0;36m0\u001b[0m\u001b[0;34m]\u001b[0m \u001b[0;34m>\u001b[0m \u001b[0mbatch_size\u001b[0m \u001b[0;32mand\u001b[0m \u001b[0mx\u001b[0m\u001b[0;34m[\u001b[0m\u001b[0;36m0\u001b[0m\u001b[0;34m]\u001b[0m\u001b[0;34m.\u001b[0m\u001b[0mshape\u001b[0m\u001b[0;34m[\u001b[0m\u001b[0;36m0\u001b[0m\u001b[0;34m]\u001b[0m \u001b[0;34m%\u001b[0m \u001b[0mbatch_size\u001b[0m \u001b[0;34m!=\u001b[0m \u001b[0;36m0\u001b[0m\u001b[0;34m:\u001b[0m\u001b[0;34m\u001b[0m\u001b[0m\n",
      "\u001b[0;32m~/.local/lib/python3.6/site-packages/keras/engine/training.py\u001b[0m in \u001b[0;36m_standardize_user_data\u001b[0;34m(self, x, y, sample_weight, class_weight, check_array_lengths, batch_size)\u001b[0m\n\u001b[1;32m    752\u001b[0m             \u001b[0mfeed_input_shapes\u001b[0m\u001b[0;34m,\u001b[0m\u001b[0;34m\u001b[0m\u001b[0m\n\u001b[1;32m    753\u001b[0m             \u001b[0mcheck_batch_axis\u001b[0m\u001b[0;34m=\u001b[0m\u001b[0;32mFalse\u001b[0m\u001b[0;34m,\u001b[0m  \u001b[0;31m# Don't enforce the batch size.\u001b[0m\u001b[0;34m\u001b[0m\u001b[0m\n\u001b[0;32m--> 754\u001b[0;31m             exception_prefix='input')\n\u001b[0m\u001b[1;32m    755\u001b[0m \u001b[0;34m\u001b[0m\u001b[0m\n\u001b[1;32m    756\u001b[0m         \u001b[0;32mif\u001b[0m \u001b[0my\u001b[0m \u001b[0;32mis\u001b[0m \u001b[0;32mnot\u001b[0m \u001b[0;32mNone\u001b[0m\u001b[0;34m:\u001b[0m\u001b[0;34m\u001b[0m\u001b[0m\n",
      "\u001b[0;32m~/.local/lib/python3.6/site-packages/keras/engine/training_utils.py\u001b[0m in \u001b[0;36mstandardize_input_data\u001b[0;34m(data, names, shapes, check_batch_axis, exception_prefix)\u001b[0m\n\u001b[1;32m    124\u001b[0m                         \u001b[0;34m': expected '\u001b[0m \u001b[0;34m+\u001b[0m \u001b[0mnames\u001b[0m\u001b[0;34m[\u001b[0m\u001b[0mi\u001b[0m\u001b[0;34m]\u001b[0m \u001b[0;34m+\u001b[0m \u001b[0;34m' to have '\u001b[0m \u001b[0;34m+\u001b[0m\u001b[0;34m\u001b[0m\u001b[0m\n\u001b[1;32m    125\u001b[0m                         \u001b[0mstr\u001b[0m\u001b[0;34m(\u001b[0m\u001b[0mlen\u001b[0m\u001b[0;34m(\u001b[0m\u001b[0mshape\u001b[0m\u001b[0;34m)\u001b[0m\u001b[0;34m)\u001b[0m \u001b[0;34m+\u001b[0m \u001b[0;34m' dimensions, but got array '\u001b[0m\u001b[0;34m\u001b[0m\u001b[0m\n\u001b[0;32m--> 126\u001b[0;31m                         'with shape ' + str(data_shape))\n\u001b[0m\u001b[1;32m    127\u001b[0m                 \u001b[0;32mif\u001b[0m \u001b[0;32mnot\u001b[0m \u001b[0mcheck_batch_axis\u001b[0m\u001b[0;34m:\u001b[0m\u001b[0;34m\u001b[0m\u001b[0m\n\u001b[1;32m    128\u001b[0m                     \u001b[0mdata_shape\u001b[0m \u001b[0;34m=\u001b[0m \u001b[0mdata_shape\u001b[0m\u001b[0;34m[\u001b[0m\u001b[0;36m1\u001b[0m\u001b[0;34m:\u001b[0m\u001b[0;34m]\u001b[0m\u001b[0;34m\u001b[0m\u001b[0m\n",
      "\u001b[0;31mValueError\u001b[0m: Error when checking input: expected input_1 to have 2 dimensions, but got array with shape (10000, 28, 28, 1)"
     ]
    }
   ],
   "source": [
    "encoded_imgs = encoder.predict(x_test)\n",
    "decoded_imgs = decoder.predict(encoded_imgs)\n",
    "display_result(autoencoder, x_test)"
   ]
  },
  {
   "cell_type": "markdown",
   "metadata": {},
   "source": [
    "### Convolutional autoencoder"
   ]
  },
  {
   "cell_type": "code",
   "execution_count": 27,
   "metadata": {},
   "outputs": [],
   "source": [
    "from keras.layers import Input, Dense, Conv2D, MaxPooling2D, UpSampling2D\n",
    "from keras.models import Model\n",
    "from keras import backend as K\n",
    "\n",
    "input_img = Input(shape=(28, 28, 1))  # adapt this if using `channels_first` image data format\n",
    "\n",
    "x = Conv2D(16, (3, 3), activation='relu', padding='same')(input_img)\n",
    "x = MaxPooling2D((2, 2), padding='same')(x)\n",
    "x = Conv2D(8, (3, 3), activation='relu', padding='same')(x)\n",
    "x = MaxPooling2D((2, 2), padding='same')(x)\n",
    "x = Conv2D(8, (3, 3), activation='relu', padding='same')(x)\n",
    "encoded = MaxPooling2D((2, 2), padding='same')(x)\n",
    "\n",
    "# at this point the representation is (4, 4, 8) i.e. 128-dimensional\n",
    "\n",
    "x = Conv2D(8, (3, 3), activation='relu', padding='same')(encoded)\n",
    "x = UpSampling2D((2, 2))(x)\n",
    "x = Conv2D(8, (3, 3), activation='relu', padding='same')(x)\n",
    "x = UpSampling2D((2, 2))(x)\n",
    "x = Conv2D(16, (3, 3), activation='relu')(x)\n",
    "x = UpSampling2D((2, 2))(x)\n",
    "decoded = Conv2D(1, (3, 3), activation='sigmoid', padding='same')(x)\n",
    "\n",
    "autoencoder = Model(input_img, decoded)\n",
    "autoencoder.compile(optimizer='adadelta', loss='binary_crossentropy')"
   ]
  },
  {
   "cell_type": "code",
   "execution_count": 28,
   "metadata": {},
   "outputs": [],
   "source": [
    "from keras.datasets import mnist\n",
    "import numpy as np\n",
    "\n",
    "(x_train, _), (x_test, _) = mnist.load_data()\n",
    "\n",
    "x_train = x_train.astype('float32') / 255.\n",
    "x_test = x_test.astype('float32') / 255.\n",
    "x_train = np.reshape(x_train, (len(x_train), 28, 28, 1))  # adapt this if using `channels_first` image data format\n",
    "x_test = np.reshape(x_test, (len(x_test), 28, 28, 1))  # adapt this if using `channels_first` image data format"
   ]
  },
  {
   "cell_type": "code",
   "execution_count": 30,
   "metadata": {
    "scrolled": true
   },
   "outputs": [
    {
     "name": "stdout",
     "output_type": "stream",
     "text": [
      "Train on 60000 samples, validate on 10000 samples\n",
      "Epoch 1/50\n",
      "60000/60000 [==============================] - 4s 65us/step - loss: 0.2134 - val_loss: 0.1720\n",
      "Epoch 2/50\n",
      "60000/60000 [==============================] - 3s 58us/step - loss: 0.1554 - val_loss: 0.1537\n",
      "Epoch 3/50\n",
      "60000/60000 [==============================] - 3s 58us/step - loss: 0.1398 - val_loss: 0.1336\n",
      "Epoch 4/50\n",
      "60000/60000 [==============================] - 3s 57us/step - loss: 0.1314 - val_loss: 0.1257\n",
      "Epoch 5/50\n",
      "60000/60000 [==============================] - 3s 57us/step - loss: 0.1258 - val_loss: 0.1213\n",
      "Epoch 6/50\n",
      "60000/60000 [==============================] - 3s 58us/step - loss: 0.1218 - val_loss: 0.1188\n",
      "Epoch 7/50\n",
      "60000/60000 [==============================] - 3s 57us/step - loss: 0.1186 - val_loss: 0.1163\n",
      "Epoch 8/50\n",
      "60000/60000 [==============================] - 3s 57us/step - loss: 0.1162 - val_loss: 0.1153\n",
      "Epoch 9/50\n",
      "60000/60000 [==============================] - 3s 57us/step - loss: 0.1143 - val_loss: 0.1126\n",
      "Epoch 10/50\n",
      "60000/60000 [==============================] - 3s 58us/step - loss: 0.1128 - val_loss: 0.1089\n",
      "Epoch 11/50\n",
      "60000/60000 [==============================] - 3s 57us/step - loss: 0.1114 - val_loss: 0.1061\n",
      "Epoch 12/50\n",
      "60000/60000 [==============================] - 3s 57us/step - loss: 0.1105 - val_loss: 0.1091\n",
      "Epoch 13/50\n",
      "60000/60000 [==============================] - 3s 57us/step - loss: 0.1098 - val_loss: 0.1084\n",
      "Epoch 14/50\n",
      "60000/60000 [==============================] - 3s 56us/step - loss: 0.1088 - val_loss: 0.1041\n",
      "Epoch 15/50\n",
      "60000/60000 [==============================] - 3s 57us/step - loss: 0.1079 - val_loss: 0.1071\n",
      "Epoch 16/50\n",
      "60000/60000 [==============================] - 3s 57us/step - loss: 0.1068 - val_loss: 0.1081\n",
      "Epoch 17/50\n",
      "60000/60000 [==============================] - 3s 57us/step - loss: 0.1064 - val_loss: 0.1060\n",
      "Epoch 18/50\n",
      "60000/60000 [==============================] - 3s 57us/step - loss: 0.1061 - val_loss: 0.1034\n",
      "Epoch 19/50\n",
      "60000/60000 [==============================] - 3s 57us/step - loss: 0.1055 - val_loss: 0.1071\n",
      "Epoch 20/50\n",
      "60000/60000 [==============================] - 4s 61us/step - loss: 0.1049 - val_loss: 0.1031\n",
      "Epoch 21/50\n",
      "60000/60000 [==============================] - 4s 58us/step - loss: 0.1044 - val_loss: 0.1046\n",
      "Epoch 22/50\n",
      "60000/60000 [==============================] - 3s 57us/step - loss: 0.1038 - val_loss: 0.1001\n",
      "Epoch 23/50\n",
      "60000/60000 [==============================] - 3s 58us/step - loss: 0.1035 - val_loss: 0.1045\n",
      "Epoch 24/50\n",
      "60000/60000 [==============================] - 3s 57us/step - loss: 0.1031 - val_loss: 0.1057\n",
      "Epoch 25/50\n",
      "60000/60000 [==============================] - 3s 57us/step - loss: 0.1027 - val_loss: 0.1026\n",
      "Epoch 26/50\n",
      "60000/60000 [==============================] - 3s 57us/step - loss: 0.1025 - val_loss: 0.1022\n",
      "Epoch 27/50\n",
      "60000/60000 [==============================] - 3s 57us/step - loss: 0.1020 - val_loss: 0.1001\n",
      "Epoch 28/50\n",
      "60000/60000 [==============================] - 3s 58us/step - loss: 0.1019 - val_loss: 0.1054\n",
      "Epoch 29/50\n",
      "60000/60000 [==============================] - 3s 57us/step - loss: 0.1018 - val_loss: 0.1004\n",
      "Epoch 30/50\n",
      "60000/60000 [==============================] - 3s 57us/step - loss: 0.1014 - val_loss: 0.0986\n",
      "Epoch 31/50\n",
      "60000/60000 [==============================] - 3s 58us/step - loss: 0.1010 - val_loss: 0.0998\n",
      "Epoch 32/50\n",
      "60000/60000 [==============================] - 3s 57us/step - loss: 0.1008 - val_loss: 0.1003\n",
      "Epoch 33/50\n",
      "60000/60000 [==============================] - 3s 57us/step - loss: 0.1006 - val_loss: 0.1011\n",
      "Epoch 34/50\n",
      "60000/60000 [==============================] - 3s 57us/step - loss: 0.1004 - val_loss: 0.0986\n",
      "Epoch 35/50\n",
      "60000/60000 [==============================] - 3s 58us/step - loss: 0.1000 - val_loss: 0.0999\n",
      "Epoch 36/50\n",
      "60000/60000 [==============================] - 3s 57us/step - loss: 0.0998 - val_loss: 0.1003\n",
      "Epoch 37/50\n",
      "60000/60000 [==============================] - 3s 58us/step - loss: 0.0996 - val_loss: 0.0992\n",
      "Epoch 38/50\n",
      "60000/60000 [==============================] - 3s 58us/step - loss: 0.0992 - val_loss: 0.0989\n",
      "Epoch 39/50\n",
      "60000/60000 [==============================] - 3s 57us/step - loss: 0.0991 - val_loss: 0.0955\n",
      "Epoch 40/50\n",
      "60000/60000 [==============================] - 3s 58us/step - loss: 0.0991 - val_loss: 0.0980\n",
      "Epoch 41/50\n",
      "60000/60000 [==============================] - 3s 58us/step - loss: 0.0989 - val_loss: 0.0972\n",
      "Epoch 42/50\n",
      "60000/60000 [==============================] - 3s 57us/step - loss: 0.0986 - val_loss: 0.0996\n",
      "Epoch 43/50\n",
      "60000/60000 [==============================] - 3s 58us/step - loss: 0.0983 - val_loss: 0.0981\n",
      "Epoch 44/50\n",
      "60000/60000 [==============================] - 3s 58us/step - loss: 0.0985 - val_loss: 0.0979\n",
      "Epoch 45/50\n",
      "60000/60000 [==============================] - 3s 58us/step - loss: 0.0983 - val_loss: 0.0962\n",
      "Epoch 46/50\n",
      "60000/60000 [==============================] - 3s 58us/step - loss: 0.0982 - val_loss: 0.0963\n",
      "Epoch 47/50\n",
      "60000/60000 [==============================] - 3s 58us/step - loss: 0.0979 - val_loss: 0.0963\n",
      "Epoch 48/50\n",
      "60000/60000 [==============================] - 3s 58us/step - loss: 0.0979 - val_loss: 0.0999\n",
      "Epoch 49/50\n",
      "60000/60000 [==============================] - 3s 58us/step - loss: 0.0979 - val_loss: 0.0994\n",
      "Epoch 50/50\n",
      "60000/60000 [==============================] - 3s 58us/step - loss: 0.0976 - val_loss: 0.0972\n"
     ]
    },
    {
     "data": {
      "text/plain": [
       "<keras.callbacks.History at 0x7f0c92ecda58>"
      ]
     },
     "execution_count": 30,
     "metadata": {},
     "output_type": "execute_result"
    }
   ],
   "source": [
    "from keras.callbacks import TensorBoard\n",
    "\n",
    "autoencoder.fit(x_train, x_train,\n",
    "                epochs=50,\n",
    "                batch_size=128,\n",
    "                shuffle=True,\n",
    "                validation_data=(x_test, x_test),\n",
    "                callbacks=[TensorBoard(log_dir='./../TBlogs/autoencoder')])"
   ]
  },
  {
   "cell_type": "code",
   "execution_count": 31,
   "metadata": {},
   "outputs": [
    {
     "data": {
      "image/png": "[encoded data removed]",
      "text/plain": [
       "<Figure size 1440x288 with 20 Axes>"
      ]
     },
     "metadata": {},
     "output_type": "display_data"
    }
   ],
   "source": [
    "display_result(autoencoder, x_test)"
   ]
  },
  {
   "cell_type": "markdown",
   "metadata": {},
   "source": [
    "### Application to image denoising"
   ]
  },
  {
   "cell_type": "code",
   "execution_count": 36,
   "metadata": {},
   "outputs": [
    {
     "data": {
      "image/png": "[encoded data removed]",
      "text/plain": [
       "<Figure size 1440x144 with 10 Axes>"
      ]
     },
     "metadata": {},
     "output_type": "display_data"
    }
   ],
   "source": [
    "noise_factor = 0.5\n",
    "x_train_noisy = x_train + noise_factor * np.random.normal(loc=0.0, scale=1.0, size=x_train.shape)\n",
    "x_test_noisy = x_test + noise_factor * np.random.normal(loc=0.0, scale=1.0, size=x_test.shape)\n",
    "\n",
    "x_train_noisy = np.clip(x_train_noisy , 0., 1.)\n",
    "x_test_noisy = np.clip(x_test_noisy, 0., 1.)\n",
    "\n",
    "n = 10\n",
    "plt.figure(figsize=(20, 2))\n",
    "for i in range(n):\n",
    "    ax = plt.subplot(1, n, i+1)\n",
    "    plt.imshow(x_test_noisy[i].reshape(28, 28))\n",
    "    plt.gray()\n",
    "    ax.get_xaxis().set_visible(False)\n",
    "    ax.get_yaxis().set_visible(False)\n",
    "plt.show()"
   ]
  },
  {
   "cell_type": "code",
   "execution_count": 37,
   "metadata": {},
   "outputs": [],
   "source": [
    "input_img = Input(shape=(28, 28, 1))  # adapt this if using `channels_first` image data format\n",
    "\n",
    "x = Conv2D(32, (3, 3), activation='relu', padding='same')(input_img)\n",
    "x = MaxPooling2D((2, 2), padding='same')(x)\n",
    "x = Conv2D(32, (3, 3), activation='relu', padding='same')(x)\n",
    "encoded = MaxPooling2D((2, 2), padding='same')(x)\n",
    "\n",
    "# at this point the representation is (7, 7, 32)\n",
    "\n",
    "x = Conv2D(32, (3, 3), activation='relu', padding='same')(encoded)\n",
    "x = UpSampling2D((2, 2))(x)\n",
    "x = Conv2D(32, (3, 3), activation='relu', padding='same')(x)\n",
    "x = UpSampling2D((2, 2))(x)\n",
    "decoded = Conv2D(1, (3, 3), activation='sigmoid', padding='same')(x)\n",
    "\n",
    "autoencoder = Model(input_img, decoded)\n",
    "autoencoder.compile(optimizer='adadelta', loss='binary_crossentropy')"
   ]
  },
  {
   "cell_type": "code",
   "execution_count": 38,
   "metadata": {
    "scrolled": true
   },
   "outputs": [
    {
     "name": "stdout",
     "output_type": "stream",
     "text": [
      "Train on 60000 samples, validate on 10000 samples\n",
      "Epoch 1/100\n",
      "60000/60000 [==============================] - 5s 85us/step - loss: 0.1737 - val_loss: 0.1277\n",
      "Epoch 2/100\n",
      "60000/60000 [==============================] - 5s 78us/step - loss: 0.1186 - val_loss: 0.1134\n",
      "Epoch 3/100\n",
      "60000/60000 [==============================] - 5s 78us/step - loss: 0.1115 - val_loss: 0.1089\n",
      "Epoch 4/100\n",
      "60000/60000 [==============================] - 5s 77us/step - loss: 0.1078 - val_loss: 0.1075\n",
      "Epoch 5/100\n",
      "60000/60000 [==============================] - 5s 78us/step - loss: 0.1055 - val_loss: 0.1026\n",
      "Epoch 6/100\n",
      "60000/60000 [==============================] - 5s 78us/step - loss: 0.1040 - val_loss: 0.1025\n",
      "Epoch 7/100\n",
      "60000/60000 [==============================] - 5s 78us/step - loss: 0.1027 - val_loss: 0.1014\n",
      "Epoch 8/100\n",
      "60000/60000 [==============================] - 5s 78us/step - loss: 0.1021 - val_loss: 0.0999\n",
      "Epoch 9/100\n",
      "60000/60000 [==============================] - 5s 78us/step - loss: 0.1014 - val_loss: 0.1000\n",
      "Epoch 10/100\n",
      "60000/60000 [==============================] - 5s 79us/step - loss: 0.1008 - val_loss: 0.0989\n",
      "Epoch 11/100\n",
      "60000/60000 [==============================] - 5s 79us/step - loss: 0.1003 - val_loss: 0.0984\n",
      "Epoch 12/100\n",
      "60000/60000 [==============================] - 5s 79us/step - loss: 0.1000 - val_loss: 0.0983\n",
      "Epoch 13/100\n",
      "60000/60000 [==============================] - 5s 79us/step - loss: 0.0995 - val_loss: 0.0999\n",
      "Epoch 14/100\n",
      "60000/60000 [==============================] - 5s 79us/step - loss: 0.0994 - val_loss: 0.1001\n",
      "Epoch 15/100\n",
      "60000/60000 [==============================] - 5s 79us/step - loss: 0.0992 - val_loss: 0.0983\n",
      "Epoch 16/100\n",
      "60000/60000 [==============================] - 5s 79us/step - loss: 0.0988 - val_loss: 0.0973\n",
      "Epoch 17/100\n",
      "60000/60000 [==============================] - 5s 79us/step - loss: 0.0986 - val_loss: 0.0978\n",
      "Epoch 18/100\n",
      "60000/60000 [==============================] - 5s 79us/step - loss: 0.0983 - val_loss: 0.0981\n",
      "Epoch 19/100\n",
      "60000/60000 [==============================] - 5s 79us/step - loss: 0.0982 - val_loss: 0.0969\n",
      "Epoch 20/100\n",
      "60000/60000 [==============================] - 5s 79us/step - loss: 0.0980 - val_loss: 0.0968\n",
      "Epoch 21/100\n",
      "60000/60000 [==============================] - 5s 79us/step - loss: 0.0979 - val_loss: 0.0972\n",
      "Epoch 22/100\n",
      "60000/60000 [==============================] - 5s 79us/step - loss: 0.0977 - val_loss: 0.0964\n",
      "Epoch 23/100\n",
      "60000/60000 [==============================] - 5s 79us/step - loss: 0.0975 - val_loss: 0.0963\n",
      "Epoch 24/100\n",
      "60000/60000 [==============================] - 5s 79us/step - loss: 0.0974 - val_loss: 0.0970\n",
      "Epoch 25/100\n",
      "60000/60000 [==============================] - 5s 79us/step - loss: 0.0974 - val_loss: 0.0972\n",
      "Epoch 26/100\n",
      "60000/60000 [==============================] - 5s 79us/step - loss: 0.0972 - val_loss: 0.0972\n",
      "Epoch 27/100\n",
      "60000/60000 [==============================] - 5s 79us/step - loss: 0.0970 - val_loss: 0.0959\n",
      "Epoch 28/100\n",
      "60000/60000 [==============================] - 5s 79us/step - loss: 0.0969 - val_loss: 0.0958\n",
      "Epoch 29/100\n",
      "60000/60000 [==============================] - 5s 79us/step - loss: 0.0967 - val_loss: 0.0961\n",
      "Epoch 30/100\n",
      "60000/60000 [==============================] - 5s 79us/step - loss: 0.0967 - val_loss: 0.0958\n",
      "Epoch 31/100\n",
      "60000/60000 [==============================] - 5s 79us/step - loss: 0.0965 - val_loss: 0.0961\n",
      "Epoch 32/100\n",
      "60000/60000 [==============================] - 5s 80us/step - loss: 0.0965 - val_loss: 0.0969\n",
      "Epoch 33/100\n",
      "60000/60000 [==============================] - 5s 80us/step - loss: 0.0964 - val_loss: 0.0958\n",
      "Epoch 34/100\n",
      "60000/60000 [==============================] - 5s 79us/step - loss: 0.0963 - val_loss: 0.0955\n",
      "Epoch 35/100\n",
      "60000/60000 [==============================] - 5s 80us/step - loss: 0.0962 - val_loss: 0.0952\n",
      "Epoch 36/100\n",
      "60000/60000 [==============================] - 5s 80us/step - loss: 0.0962 - val_loss: 0.0960\n",
      "Epoch 37/100\n",
      "60000/60000 [==============================] - 5s 80us/step - loss: 0.0960 - val_loss: 0.0952\n",
      "Epoch 38/100\n",
      "60000/60000 [==============================] - 5s 80us/step - loss: 0.0960 - val_loss: 0.0956\n",
      "Epoch 39/100\n",
      "60000/60000 [==============================] - 5s 80us/step - loss: 0.0959 - val_loss: 0.0953\n",
      "Epoch 40/100\n",
      "60000/60000 [==============================] - 5s 80us/step - loss: 0.0959 - val_loss: 0.0960\n",
      "Epoch 41/100\n",
      "60000/60000 [==============================] - 5s 80us/step - loss: 0.0958 - val_loss: 0.0958\n",
      "Epoch 42/100\n",
      "60000/60000 [==============================] - 5s 81us/step - loss: 0.0957 - val_loss: 0.0947\n",
      "Epoch 43/100\n",
      "60000/60000 [==============================] - 5s 80us/step - loss: 0.0956 - val_loss: 0.0948\n",
      "Epoch 44/100\n",
      "60000/60000 [==============================] - 5s 80us/step - loss: 0.0956 - val_loss: 0.0950\n",
      "Epoch 45/100\n",
      "60000/60000 [==============================] - 5s 81us/step - loss: 0.0955 - val_loss: 0.0946\n",
      "Epoch 46/100\n",
      "60000/60000 [==============================] - 5s 81us/step - loss: 0.0955 - val_loss: 0.0946\n",
      "Epoch 47/100\n",
      "60000/60000 [==============================] - 5s 80us/step - loss: 0.0954 - val_loss: 0.0946\n",
      "Epoch 48/100\n",
      "60000/60000 [==============================] - 5s 83us/step - loss: 0.0954 - val_loss: 0.0953\n",
      "Epoch 49/100\n",
      "60000/60000 [==============================] - 5s 81us/step - loss: 0.0953 - val_loss: 0.0946\n",
      "Epoch 50/100\n",
      "60000/60000 [==============================] - 5s 81us/step - loss: 0.0953 - val_loss: 0.0951\n",
      "Epoch 51/100\n",
      "60000/60000 [==============================] - 5s 80us/step - loss: 0.0951 - val_loss: 0.0945\n",
      "Epoch 52/100\n",
      "60000/60000 [==============================] - 5s 81us/step - loss: 0.0952 - val_loss: 0.0945\n",
      "Epoch 53/100\n",
      "60000/60000 [==============================] - 5s 81us/step - loss: 0.0951 - val_loss: 0.0944\n",
      "Epoch 54/100\n",
      "60000/60000 [==============================] - 5s 83us/step - loss: 0.0951 - val_loss: 0.0943\n",
      "Epoch 55/100\n",
      "60000/60000 [==============================] - 5s 82us/step - loss: 0.0951 - val_loss: 0.0948\n",
      "Epoch 56/100\n",
      "60000/60000 [==============================] - 5s 84us/step - loss: 0.0951 - val_loss: 0.0946\n",
      "Epoch 57/100\n",
      "60000/60000 [==============================] - 5s 92us/step - loss: 0.0950 - val_loss: 0.0948\n",
      "Epoch 58/100\n",
      "60000/60000 [==============================] - 5s 90us/step - loss: 0.0949 - val_loss: 0.0943\n",
      "Epoch 59/100\n",
      "60000/60000 [==============================] - 5s 89us/step - loss: 0.0949 - val_loss: 0.0946\n",
      "Epoch 60/100\n",
      "60000/60000 [==============================] - 5s 87us/step - loss: 0.0949 - val_loss: 0.0955\n",
      "Epoch 61/100\n",
      "60000/60000 [==============================] - 5s 83us/step - loss: 0.0948 - val_loss: 0.0943\n",
      "Epoch 62/100\n",
      "60000/60000 [==============================] - 5s 84us/step - loss: 0.0948 - val_loss: 0.0945\n",
      "Epoch 63/100\n",
      "60000/60000 [==============================] - 5s 89us/step - loss: 0.0948 - val_loss: 0.0944\n",
      "Epoch 64/100\n",
      "60000/60000 [==============================] - 5s 88us/step - loss: 0.0947 - val_loss: 0.0951\n",
      "Epoch 65/100\n",
      "60000/60000 [==============================] - 5s 86us/step - loss: 0.0947 - val_loss: 0.0940\n",
      "Epoch 66/100\n",
      "60000/60000 [==============================] - 5s 84us/step - loss: 0.0947 - val_loss: 0.0941\n",
      "Epoch 67/100\n",
      "60000/60000 [==============================] - 5s 87us/step - loss: 0.0946 - val_loss: 0.0942\n",
      "Epoch 68/100\n",
      "60000/60000 [==============================] - 5s 89us/step - loss: 0.0947 - val_loss: 0.0940\n",
      "Epoch 69/100\n",
      "60000/60000 [==============================] - 5s 85us/step - loss: 0.0946 - val_loss: 0.0943\n",
      "Epoch 70/100\n",
      "60000/60000 [==============================] - 5s 85us/step - loss: 0.0946 - val_loss: 0.0948\n",
      "Epoch 71/100\n",
      "60000/60000 [==============================] - 5s 90us/step - loss: 0.0946 - val_loss: 0.0939\n",
      "Epoch 72/100\n",
      "60000/60000 [==============================] - 5s 90us/step - loss: 0.0945 - val_loss: 0.0944\n",
      "Epoch 73/100\n",
      "60000/60000 [==============================] - 5s 88us/step - loss: 0.0945 - val_loss: 0.0938\n",
      "Epoch 74/100\n",
      "60000/60000 [==============================] - 5s 86us/step - loss: 0.0945 - val_loss: 0.0942\n",
      "Epoch 75/100\n",
      "60000/60000 [==============================] - 5s 85us/step - loss: 0.0944 - val_loss: 0.0938\n",
      "Epoch 76/100\n",
      "60000/60000 [==============================] - 5s 85us/step - loss: 0.0945 - val_loss: 0.0940\n",
      "Epoch 77/100\n"
     ]
    },
    {
     "name": "stdout",
     "output_type": "stream",
     "text": [
      "60000/60000 [==============================] - 5s 84us/step - loss: 0.0944 - val_loss: 0.0941\n",
      "Epoch 78/100\n",
      "60000/60000 [==============================] - 5s 84us/step - loss: 0.0944 - val_loss: 0.0941\n",
      "Epoch 79/100\n",
      "60000/60000 [==============================] - 5s 85us/step - loss: 0.0944 - val_loss: 0.0939\n",
      "Epoch 80/100\n",
      "60000/60000 [==============================] - 5s 88us/step - loss: 0.0943 - val_loss: 0.0937\n",
      "Epoch 81/100\n",
      "60000/60000 [==============================] - 5s 87us/step - loss: 0.0943 - val_loss: 0.0949\n",
      "Epoch 82/100\n",
      "60000/60000 [==============================] - 5s 87us/step - loss: 0.0943 - val_loss: 0.0944\n",
      "Epoch 83/100\n",
      "60000/60000 [==============================] - 5s 88us/step - loss: 0.0943 - val_loss: 0.0938\n",
      "Epoch 84/100\n",
      "60000/60000 [==============================] - 5s 88us/step - loss: 0.0942 - val_loss: 0.0941\n",
      "Epoch 85/100\n",
      "60000/60000 [==============================] - 5s 87us/step - loss: 0.0942 - val_loss: 0.0940\n",
      "Epoch 86/100\n",
      "60000/60000 [==============================] - 5s 87us/step - loss: 0.0942 - val_loss: 0.0938\n",
      "Epoch 87/100\n",
      "60000/60000 [==============================] - 5s 88us/step - loss: 0.0942 - val_loss: 0.0936\n",
      "Epoch 88/100\n",
      "60000/60000 [==============================] - 5s 88us/step - loss: 0.0942 - val_loss: 0.0938\n",
      "Epoch 89/100\n",
      "60000/60000 [==============================] - 5s 87us/step - loss: 0.0941 - val_loss: 0.0936\n",
      "Epoch 90/100\n",
      "60000/60000 [==============================] - 5s 90us/step - loss: 0.0941 - val_loss: 0.0936\n",
      "Epoch 91/100\n",
      "60000/60000 [==============================] - 5s 91us/step - loss: 0.0941 - val_loss: 0.0936\n",
      "Epoch 92/100\n",
      "60000/60000 [==============================] - 5s 89us/step - loss: 0.0941 - val_loss: 0.0939\n",
      "Epoch 93/100\n",
      "60000/60000 [==============================] - 5s 86us/step - loss: 0.0941 - val_loss: 0.0936\n",
      "Epoch 94/100\n",
      "60000/60000 [==============================] - 5s 83us/step - loss: 0.0940 - val_loss: 0.0941\n",
      "Epoch 95/100\n",
      "60000/60000 [==============================] - 5s 90us/step - loss: 0.0940 - val_loss: 0.0938\n",
      "Epoch 96/100\n",
      "60000/60000 [==============================] - 5s 86us/step - loss: 0.0940 - val_loss: 0.0937\n",
      "Epoch 97/100\n",
      "60000/60000 [==============================] - 5s 87us/step - loss: 0.0940 - val_loss: 0.0944\n",
      "Epoch 98/100\n",
      "60000/60000 [==============================] - 5s 87us/step - loss: 0.0940 - val_loss: 0.0953\n",
      "Epoch 99/100\n",
      "60000/60000 [==============================] - 5s 87us/step - loss: 0.0940 - val_loss: 0.0942\n",
      "Epoch 100/100\n",
      "60000/60000 [==============================] - 5s 87us/step - loss: 0.0940 - val_loss: 0.0938\n"
     ]
    },
    {
     "data": {
      "text/plain": [
       "<keras.callbacks.History at 0x7f0c90636978>"
      ]
     },
     "execution_count": 38,
     "metadata": {},
     "output_type": "execute_result"
    }
   ],
   "source": [
    "autoencoder.fit(x_train_noisy, x_train,\n",
    "                epochs=100,\n",
    "                batch_size=128,\n",
    "                shuffle=True,\n",
    "                validation_data=(x_test_noisy, x_test),\n",
    "                callbacks=[TensorBoard(log_dir='/tmp/tb', histogram_freq=0, write_graph=False)])"
   ]
  },
  {
   "cell_type": "code",
   "execution_count": 40,
   "metadata": {},
   "outputs": [
    {
     "data": {
      "image/png": "[encoded data removed]",
      "text/plain": [
       "<Figure size 1440x288 with 20 Axes>"
      ]
     },
     "metadata": {},
     "output_type": "display_data"
    }
   ],
   "source": [
    "display_result(autoencoder, x_test_noisy)"
   ]
  },
  {
   "cell_type": "code",
   "execution_count": null,
   "metadata": {},
   "outputs": [],
   "source": []
  }
 ],
 "metadata": {
  "kernelspec": {
   "display_name": "Python [conda env:ml]",
   "language": "python",
   "name": "conda-env-ml-py"
  },
  "language_info": {
   "codemirror_mode": {
    "name": "ipython",
    "version": 3
   },
   "file_extension": ".py",
   "mimetype": "text/x-python",
   "name": "python",
   "nbconvert_exporter": "python",
   "pygments_lexer": "ipython3",
   "version": "3.6.6"
  }
 },
 "nbformat": 4,
 "nbformat_minor": 2
}
