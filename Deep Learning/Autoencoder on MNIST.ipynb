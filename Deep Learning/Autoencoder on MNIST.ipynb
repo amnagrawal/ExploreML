{
 "cells": [
  {
   "cell_type": "markdown",
   "metadata": {},
   "source": [
    "### Autoencoder"
   ]
  },
  {
   "cell_type": "markdown",
   "metadata": {},
   "source": [
    "###### Following this [url](https://blog.keras.io/building-autoencoders-in-keras.html)"
   ]
  },
  {
   "cell_type": "code",
   "execution_count": 1,
   "metadata": {},
   "outputs": [
    {
     "name": "stderr",
     "output_type": "stream",
     "text": [
      "Using TensorFlow backend.\n",
      "/home/aman/.conda/envs/ml/lib/python3.6/importlib/_bootstrap.py:219: RuntimeWarning: numpy.dtype size changed, may indicate binary incompatibility. Expected 96, got 88\n",
      "  return f(*args, **kwds)\n",
      "/home/aman/.conda/envs/ml/lib/python3.6/importlib/_bootstrap.py:219: RuntimeWarning: numpy.dtype size changed, may indicate binary incompatibility. Expected 96, got 88\n",
      "  return f(*args, **kwds)\n"
     ]
    }
   ],
   "source": [
    "from keras.layers import Input, Dense\n",
    "from keras.models import Model\n",
    "from keras.datasets import mnist\n",
    "from keras.callbacks import TensorBoard\n",
    "import numpy as np\n",
    "import matplotlib.pyplot as plt"
   ]
  },
  {
   "cell_type": "code",
   "execution_count": 2,
   "metadata": {},
   "outputs": [],
   "source": [
    "encoding_dim = 32\n",
    "\n",
    "input_img = Input(shape=(784,))\n",
    "\n",
    "# encoded in the encoded representation of the input\n",
    "encoded = Dense(encoding_dim, activation='relu')(input_img)\n",
    "\n",
    "# Decoded is the lossy reconstruction of the input\n",
    "decoded = Dense(784, activation='sigmoid')(encoded)\n",
    "\n",
    "# this model maps the input to its reconstruction\n",
    "autoencoder = Model(input_img, decoded)\n",
    "autoencoder.compile(optimizer='adadelta', loss='binary_crossentropy')"
   ]
  },
  {
   "cell_type": "code",
   "execution_count": 3,
   "metadata": {},
   "outputs": [],
   "source": [
    "# this model maps an input to its encoded representation\n",
    "encoder = Model(input_img, encoded)"
   ]
  },
  {
   "cell_type": "code",
   "execution_count": 4,
   "metadata": {},
   "outputs": [],
   "source": [
    "# create a placeholder for an encoded (32-dimensional) input\n",
    "encoded_input = Input(shape=(encoding_dim,))\n",
    "\n",
    "# retrieve the last layer of the autoencoder model\n",
    "decoder_layer = autoencoder.layers[-1]\n",
    "\n",
    "#create the decoder model\n",
    "decoder = Model(encoded_input, decoder_layer(encoded_input))"
   ]
  },
  {
   "cell_type": "code",
   "execution_count": 5,
   "metadata": {},
   "outputs": [],
   "source": [
    "(x_train, _), (x_test, _) = mnist.load_data() "
   ]
  },
  {
   "cell_type": "code",
   "execution_count": 6,
   "metadata": {},
   "outputs": [
    {
     "name": "stdout",
     "output_type": "stream",
     "text": [
      "(60000, 784)\n",
      "(10000, 784)\n"
     ]
    }
   ],
   "source": [
    "#normalize and flatten the 28x28 images into vectors of size 784\n",
    "x_train = x_train.astype('float32') / 255.\n",
    "x_test = x_test.astype('float32') / 255.\n",
    "x_train = x_train.reshape((len(x_train), np.prod(x_train.shape[1:])))\n",
    "x_test = x_test.reshape((len(x_test), np.prod(x_test.shape[1:])))\n",
    "print(x_train.shape)\n",
    "print(x_test.shape)"
   ]
  },
  {
   "cell_type": "code",
   "execution_count": 7,
   "metadata": {},
   "outputs": [
    {
     "name": "stdout",
     "output_type": "stream",
     "text": [
      "Epoch 1/50\n",
      "60000/60000 [==============================] - 1s 20us/step - loss: 0.3728\n",
      "Epoch 2/50\n",
      "60000/60000 [==============================] - 1s 10us/step - loss: 0.2643\n",
      "Epoch 3/50\n",
      "60000/60000 [==============================] - 1s 10us/step - loss: 0.2431\n",
      "Epoch 4/50\n",
      "60000/60000 [==============================] - 1s 11us/step - loss: 0.2229\n",
      "Epoch 5/50\n",
      "60000/60000 [==============================] - 1s 10us/step - loss: 0.2078\n",
      "Epoch 6/50\n",
      "60000/60000 [==============================] - 1s 10us/step - loss: 0.1970\n",
      "Epoch 7/50\n",
      "60000/60000 [==============================] - 1s 11us/step - loss: 0.1886\n",
      "Epoch 8/50\n",
      "60000/60000 [==============================] - 1s 11us/step - loss: 0.1816\n",
      "Epoch 9/50\n",
      "60000/60000 [==============================] - 1s 11us/step - loss: 0.1756\n",
      "Epoch 10/50\n",
      "60000/60000 [==============================] - 1s 10us/step - loss: 0.1703\n",
      "Epoch 11/50\n",
      "60000/60000 [==============================] - 1s 11us/step - loss: 0.1654\n",
      "Epoch 12/50\n",
      "60000/60000 [==============================] - 1s 11us/step - loss: 0.1610\n",
      "Epoch 13/50\n",
      "60000/60000 [==============================] - 1s 11us/step - loss: 0.1569\n",
      "Epoch 14/50\n",
      "60000/60000 [==============================] - 1s 10us/step - loss: 0.1533\n",
      "Epoch 15/50\n",
      "60000/60000 [==============================] - 1s 11us/step - loss: 0.1498\n",
      "Epoch 16/50\n",
      "60000/60000 [==============================] - 1s 11us/step - loss: 0.1467\n",
      "Epoch 17/50\n",
      "60000/60000 [==============================] - 1s 11us/step - loss: 0.1437\n",
      "Epoch 18/50\n",
      "60000/60000 [==============================] - 1s 11us/step - loss: 0.1409\n",
      "Epoch 19/50\n",
      "60000/60000 [==============================] - 1s 11us/step - loss: 0.1382\n",
      "Epoch 20/50\n",
      "60000/60000 [==============================] - 1s 11us/step - loss: 0.1357\n",
      "Epoch 21/50\n",
      "60000/60000 [==============================] - 1s 11us/step - loss: 0.1334\n",
      "Epoch 22/50\n",
      "60000/60000 [==============================] - 1s 10us/step - loss: 0.1311\n",
      "Epoch 23/50\n",
      "60000/60000 [==============================] - 1s 11us/step - loss: 0.1291\n",
      "Epoch 24/50\n",
      "60000/60000 [==============================] - 1s 10us/step - loss: 0.1271\n",
      "Epoch 25/50\n",
      "60000/60000 [==============================] - 1s 11us/step - loss: 0.1253\n",
      "Epoch 26/50\n",
      "60000/60000 [==============================] - 1s 11us/step - loss: 0.1236\n",
      "Epoch 27/50\n",
      "60000/60000 [==============================] - 1s 11us/step - loss: 0.1219\n",
      "Epoch 28/50\n",
      "60000/60000 [==============================] - 1s 10us/step - loss: 0.1204\n",
      "Epoch 29/50\n",
      "60000/60000 [==============================] - 1s 11us/step - loss: 0.1190\n",
      "Epoch 30/50\n",
      "60000/60000 [==============================] - 1s 10us/step - loss: 0.1176\n",
      "Epoch 31/50\n",
      "60000/60000 [==============================] - 1s 11us/step - loss: 0.1164\n",
      "Epoch 32/50\n",
      "60000/60000 [==============================] - 1s 11us/step - loss: 0.1152\n",
      "Epoch 33/50\n",
      "60000/60000 [==============================] - 1s 11us/step - loss: 0.1141\n",
      "Epoch 34/50\n",
      "60000/60000 [==============================] - 1s 10us/step - loss: 0.1131\n",
      "Epoch 35/50\n",
      "60000/60000 [==============================] - 1s 11us/step - loss: 0.1121\n",
      "Epoch 36/50\n",
      "60000/60000 [==============================] - 1s 11us/step - loss: 0.1112\n",
      "Epoch 37/50\n",
      "60000/60000 [==============================] - 1s 11us/step - loss: 0.1104\n",
      "Epoch 38/50\n",
      "60000/60000 [==============================] - 1s 11us/step - loss: 0.1096\n",
      "Epoch 39/50\n",
      "60000/60000 [==============================] - 1s 11us/step - loss: 0.1089\n",
      "Epoch 40/50\n",
      "60000/60000 [==============================] - 1s 10us/step - loss: 0.1083\n",
      "Epoch 41/50\n",
      "60000/60000 [==============================] - 1s 11us/step - loss: 0.1076\n",
      "Epoch 42/50\n",
      "60000/60000 [==============================] - 1s 10us/step - loss: 0.1071\n",
      "Epoch 43/50\n",
      "60000/60000 [==============================] - 1s 11us/step - loss: 0.1065\n",
      "Epoch 44/50\n",
      "60000/60000 [==============================] - 1s 11us/step - loss: 0.1060\n",
      "Epoch 45/50\n",
      "60000/60000 [==============================] - 1s 11us/step - loss: 0.1056\n",
      "Epoch 46/50\n",
      "60000/60000 [==============================] - 1s 10us/step - loss: 0.1051\n",
      "Epoch 47/50\n",
      "60000/60000 [==============================] - 1s 11us/step - loss: 0.1047\n",
      "Epoch 48/50\n",
      "60000/60000 [==============================] - 1s 10us/step - loss: 0.1043\n",
      "Epoch 49/50\n",
      "60000/60000 [==============================] - 1s 11us/step - loss: 0.1039\n",
      "Epoch 50/50\n",
      "60000/60000 [==============================] - 1s 11us/step - loss: 0.1036\n"
     ]
    },
    {
     "data": {
      "text/plain": [
       "<keras.callbacks.History at 0x7f44e56a7ef0>"
      ]
     },
     "execution_count": 7,
     "metadata": {},
     "output_type": "execute_result"
    }
   ],
   "source": [
    "tensorboard = TensorBoard(log_dir=\"./../TBlogs/\")\n",
    "autoencoder.fit(x_train, x_train, epochs = 50, batch_size=256, shuffle=True, )"
   ]
  },
  {
   "cell_type": "code",
   "execution_count": 8,
   "metadata": {},
   "outputs": [],
   "source": [
    "encoded_imgs = encoder.predict(x_test)\n",
    "decoded_imgs = decoder.predict(encoded_imgs)"
   ]
  },
  {
   "cell_type": "code",
   "execution_count": 10,
   "metadata": {},
   "outputs": [
    {
     "data": {
      "image/png": "[encoded data removed]",
      "text/plain": [
       "<Figure size 1440x288 with 20 Axes>"
      ]
     },
     "metadata": {},
     "output_type": "display_data"
    }
   ],
   "source": [
    "n=10\n",
    "plt.figure(figsize=(20,4))\n",
    "\n",
    "for i in range(n):\n",
    "    # Display original\n",
    "    ax = plt.subplot(2, n, i+1)\n",
    "    plt.imshow(x_test[i].reshape(28, 28))\n",
    "    plt.gray()\n",
    "    ax.get_xaxis().set_visible(False)\n",
    "    ax.get_yaxis().set_visible(False)\n",
    "    \n",
    "    # Display reconstruction\n",
    "    ax = plt.subplot(2, n, i+1+n)\n",
    "    plt.imshow(decoded_imgs[i].reshape(28, 28))\n",
    "    plt.gray()\n",
    "    ax.get_xaxis().set_visible(False)\n",
    "    ax.get_yaxis().set_visible(False)\n",
    "plt.show()"
   ]
  }
 ],
 "metadata": {
  "kernelspec": {
   "display_name": "Python [conda env:ml]",
   "language": "python",
   "name": "conda-env-ml-py"
  },
  "language_info": {
   "codemirror_mode": {
    "name": "ipython",
    "version": 3
   },
   "file_extension": ".py",
   "mimetype": "text/x-python",
   "name": "python",
   "nbconvert_exporter": "python",
   "pygments_lexer": "ipython3",
   "version": "3.6.6"
  }
 },
 "nbformat": 4,
 "nbformat_minor": 2
}
