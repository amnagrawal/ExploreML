{
 "cells": [
  {
   "cell_type": "markdown",
   "metadata": {},
   "source": [
    "## Traffic sign recognition using [this](https://data-flair.training/blogs/python-project-traffic-signs-recognition/?fbclid=IwAR2K0szafodugcgb-xGWweWyUR415uVDN3e9OXaSBoOBmfoIGsaWTdNx5GM) link "
   ]
  },
  {
   "cell_type": "code",
   "execution_count": 1,
   "metadata": {},
   "outputs": [],
   "source": [
    "import numpy as np\n",
    "import pandas as pd\n",
    "import matplotlib.pyplot as plt\n",
    "import tensorflow as tf\n",
    "from PIL import Image\n",
    "import os\n",
    "from sklearn.model_selection import train_test_split\n",
    "from keras.utils import to_categorical\n",
    "from keras.models import Sequential\n",
    "from keras.layers import Conv2D, MaxPool2D, Dense, Flatten, Dropout\n",
    "%config IPCompleter.greedy=True"
   ]
  },
  {
   "cell_type": "code",
   "execution_count": 11,
   "metadata": {
    "scrolled": true
   },
   "outputs": [],
   "source": [
    "data = []\n",
    "labels = []\n",
    "classes = 43\n",
    "cur_path = os.getcwd()\n",
    "data_path = os.path.join(cur_path, '..', 'Datasets', 'gtsrb-german-traffic-sign')\n",
    "\n",
    "for i in range(classes):\n",
    "    path = os.path.join(data_path, 'train', str(i))\n",
    "    images = os.listdir(path)\n",
    "    \n",
    "    for a in images: \n",
    "        try:\n",
    "#             print(path + '/' + a)\n",
    "            image = Image.open(path + '/' + a)\n",
    "            image = image.resize((30, 30))\n",
    "            image = np.array(image)\n",
    "            data.append(image)\n",
    "            labels.append(i)\n",
    "        except:\n",
    "            print(\"error loading image\")\n",
    "            break\n",
    "            \n",
    "data = np.array(data)\n",
    "labels = np.array(labels)"
   ]
  },
  {
   "cell_type": "code",
   "execution_count": 13,
   "metadata": {},
   "outputs": [
    {
     "name": "stdout",
     "output_type": "stream",
     "text": [
      "(39209, 30, 30, 3) (39209,)\n",
      "(31367, 30, 30, 3) (7842, 30, 30, 3) (31367,) (7842,)\n"
     ]
    }
   ],
   "source": [
    "print(data.shape, labels.shape)\n",
    "xTrain, xTest, yTrain, yTest = train_test_split(data, labels, test_size=0.2, random_state=42)\n",
    "\n",
    "print(xTrain.shape, xTest.shape, yTrain.shape, yTest.shape)\n",
    "\n",
    "yTrain = to_categorical(yTrain, 43)\n",
    "yTest = to_categorical(yTest, 43)"
   ]
  },
  {
   "cell_type": "code",
   "execution_count": 15,
   "metadata": {
    "scrolled": true
   },
   "outputs": [
    {
     "name": "stdout",
     "output_type": "stream",
     "text": [
      "WARNING:tensorflow:From /home/aman/anaconda3/envs/ml/lib/python3.7/site-packages/keras/backend/tensorflow_backend.py:4070: The name tf.nn.max_pool is deprecated. Please use tf.nn.max_pool2d instead.\n",
      "\n"
     ]
    }
   ],
   "source": [
    "model = Sequential()\n",
    "model.add(Conv2D(filters=32, kernel_size=(5,5), activation='relu', input_shape=xTrain.shape[1:]))\n",
    "model.add(Conv2D(filters=32, kernel_size=(5,5), activation='relu'))\n",
    "model.add(MaxPool2D(pool_size=(2, 2)))\n",
    "model.add(Dropout(rate=0.25))\n",
    "model.add(Conv2D(filters=64, kernel_size=(3, 3), activation='relu'))\n",
    "model.add(Conv2D(filters=64, kernel_size=(3, 3), activation='relu'))\n",
    "model.add(MaxPool2D(pool_size=(2, 2)))\n",
    "model.add(Dropout(rate=0.25))\n",
    "model.add(Flatten())\n",
    "model.add(Dense(256, activation='relu'))\n",
    "model.add(Dropout(rate=0.5))\n",
    "model.add(Dense(43, activation='softmax'))\n",
    "\n",
    "#Compilation of the model\n",
    "model.compile(loss='categorical_crossentropy', optimizer='adam', metrics=['accuracy'])"
   ]
  },
  {
   "cell_type": "code",
   "execution_count": 16,
   "metadata": {
    "scrolled": true
   },
   "outputs": [
    {
     "name": "stdout",
     "output_type": "stream",
     "text": [
      "WARNING:tensorflow:From /home/aman/anaconda3/envs/ml/lib/python3.7/site-packages/keras/backend/tensorflow_backend.py:422: The name tf.global_variables is deprecated. Please use tf.compat.v1.global_variables instead.\n",
      "\n",
      "Train on 31367 samples, validate on 7842 samples\n",
      "Epoch 1/15\n",
      "31367/31367 [==============================] - 19s 604us/step - loss: 2.4626 - accuracy: 0.3801 - val_loss: 0.8623 - val_accuracy: 0.7860\n",
      "Epoch 2/15\n",
      "31367/31367 [==============================] - 5s 172us/step - loss: 0.8982 - accuracy: 0.7321 - val_loss: 0.3522 - val_accuracy: 0.9073\n",
      "Epoch 3/15\n",
      "31367/31367 [==============================] - 5s 173us/step - loss: 0.6125 - accuracy: 0.8170 - val_loss: 0.2346 - val_accuracy: 0.9333\n",
      "Epoch 4/15\n",
      "31367/31367 [==============================] - 5s 172us/step - loss: 0.4692 - accuracy: 0.8569 - val_loss: 0.1733 - val_accuracy: 0.9526\n",
      "Epoch 5/15\n",
      "31367/31367 [==============================] - 5s 171us/step - loss: 0.3694 - accuracy: 0.8893 - val_loss: 0.1486 - val_accuracy: 0.9620\n",
      "Epoch 6/15\n",
      "31367/31367 [==============================] - 5s 174us/step - loss: 0.3323 - accuracy: 0.9002 - val_loss: 0.1371 - val_accuracy: 0.9619\n",
      "Epoch 7/15\n",
      "31367/31367 [==============================] - 5s 173us/step - loss: 0.2754 - accuracy: 0.9195 - val_loss: 0.0986 - val_accuracy: 0.9735\n",
      "Epoch 8/15\n",
      "31367/31367 [==============================] - 5s 172us/step - loss: 0.2682 - accuracy: 0.9219 - val_loss: 0.1105 - val_accuracy: 0.9666\n",
      "Epoch 9/15\n",
      "31367/31367 [==============================] - 5s 171us/step - loss: 0.2457 - accuracy: 0.9270 - val_loss: 0.1135 - val_accuracy: 0.9693\n",
      "Epoch 10/15\n",
      "31367/31367 [==============================] - 5s 174us/step - loss: 0.2137 - accuracy: 0.9362 - val_loss: 0.0737 - val_accuracy: 0.9792\n",
      "Epoch 11/15\n",
      "31367/31367 [==============================] - 5s 174us/step - loss: 0.2288 - accuracy: 0.9342 - val_loss: 0.0795 - val_accuracy: 0.9773\n",
      "Epoch 12/15\n",
      "31367/31367 [==============================] - 5s 173us/step - loss: 0.2083 - accuracy: 0.9402 - val_loss: 0.0823 - val_accuracy: 0.9773\n",
      "Epoch 13/15\n",
      "31367/31367 [==============================] - 6s 176us/step - loss: 0.1984 - accuracy: 0.9434 - val_loss: 0.0919 - val_accuracy: 0.9758\n",
      "Epoch 14/15\n",
      "31367/31367 [==============================] - 5s 171us/step - loss: 0.2114 - accuracy: 0.9400 - val_loss: 0.0677 - val_accuracy: 0.9802\n",
      "Epoch 15/15\n",
      "31367/31367 [==============================] - 5s 173us/step - loss: 0.1839 - accuracy: 0.9478 - val_loss: 0.0812 - val_accuracy: 0.9767\n"
     ]
    }
   ],
   "source": [
    "epochs = 15\n",
    "history = model.fit(xTrain, yTrain, batch_size=64, epochs=epochs, validation_data=(xTest, yTest))"
   ]
  },
  {
   "cell_type": "code",
   "execution_count": 17,
   "metadata": {},
   "outputs": [
    {
     "data": {
      "text/plain": [
       "<matplotlib.legend.Legend at 0x7fa35a93a310>"
      ]
     },
     "execution_count": 17,
     "metadata": {},
     "output_type": "execute_result"
    },
    {
     "data": {
      "image/png": "[encoded data removed]",
      "text/plain": [
       "<Figure size 432x288 with 1 Axes>"
      ]
     },
     "metadata": {
      "needs_background": "light"
     },
     "output_type": "display_data"
    }
   ],
   "source": [
    "plt.figure(0)\n",
    "plt.plot(history.history['accuracy'], label='training accuracy')\n",
    "plt.plot(history.history['val_accuracy'], label='val accuracy')\n",
    "plt.title('Accuracy')\n",
    "plt.xlabel('epochs')\n",
    "plt.ylabel('accuracy')\n",
    "plt.legend()"
   ]
  },
  {
   "cell_type": "code",
   "execution_count": 18,
   "metadata": {},
   "outputs": [
    {
     "data": {
      "text/plain": [
       "<matplotlib.legend.Legend at 0x7fa35b569fd0>"
      ]
     },
     "execution_count": 18,
     "metadata": {},
     "output_type": "execute_result"
    },
    {
     "data": {
      "image/png": "[encoded data removed]",
      "text/plain": [
       "<Figure size 432x288 with 1 Axes>"
      ]
     },
     "metadata": {
      "needs_background": "light"
     },
     "output_type": "display_data"
    }
   ],
   "source": [
    "plt.figure(1)\n",
    "plt.plot(history.history['loss'], label='training loss')\n",
    "plt.plot(history.history['val_loss'], label='val loss')\n",
    "plt.title('Loss')\n",
    "plt.xlabel('epochs')\n",
    "plt.ylabel('loss')\n",
    "plt.legend()"
   ]
  },
  {
   "cell_type": "code",
   "execution_count": 19,
   "metadata": {},
   "outputs": [],
   "source": [
    "from sklearn.metrics import accuracy_score\n",
    "import pandas as pd"
   ]
  },
  {
   "cell_type": "code",
   "execution_count": 23,
   "metadata": {},
   "outputs": [
    {
     "data": {
      "text/plain": [
       "0.9346793349168646"
      ]
     },
     "execution_count": 23,
     "metadata": {},
     "output_type": "execute_result"
    }
   ],
   "source": [
    "yTest = pd.read_csv(data_path+'/Test.csv')\n",
    "labels = yTest[\"ClassId\"].values\n",
    "imgs = yTest[\"Path\"].values\n",
    "\n",
    "data = []\n",
    "\n",
    "for img in imgs:\n",
    "    image = Image.open(data_path + '/' + img)\n",
    "    image = image.resize((30, 30))\n",
    "    data.append(np.array(image))\n",
    "    \n",
    "xTest = np.array(data)\n",
    "\n",
    "pred = model.predict_classes(xTest)\n",
    "accuracy_score(labels, pred)"
   ]
  },
  {
   "cell_type": "code",
   "execution_count": null,
   "metadata": {},
   "outputs": [],
   "source": [
    "model.save('traffic_sign_classifier.h5')"
   ]
  }
 ],
 "metadata": {
  "kernelspec": {
   "display_name": "Python 3",
   "language": "python",
   "name": "python3"
  },
  "varInspector": {
   "cols": {
    "lenName": 16,
    "lenType": 16,
    "lenVar": 40
   },
   "kernels_config": {
    "python": {
     "delete_cmd_postfix": "",
     "delete_cmd_prefix": "del ",
     "library": "var_list.py",
     "varRefreshCmd": "print(var_dic_list())"
    },
    "r": {
     "delete_cmd_postfix": ") ",
     "delete_cmd_prefix": "rm(",
     "library": "var_list.r",
     "varRefreshCmd": "cat(var_dic_list()) "
    }
   },
   "types_to_exclude": [
    "module",
    "function",
    "builtin_function_or_method",
    "instance",
    "_Feature"
   ],
   "window_display": false
  }
 },
 "nbformat": 4,
 "nbformat_minor": 2
}
