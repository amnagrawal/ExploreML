{
 "cells": [
  {
   "cell_type": "code",
   "execution_count": null,
   "metadata": {},
   "outputs": [],
   "source": [
    "from keras.applications.vgg16 import VGG16\n",
    "model = VGG16()"
   ]
  },
  {
   "cell_type": "code",
   "execution_count": null,
   "metadata": {},
   "outputs": [],
   "source": [
    "from keras.preprocessing.image import load_img\n",
    "image = load_img('/home/aman/Learnings/Datasets/imgProcessing/images/pic1.jpeg', target_size=(224, 224))"
   ]
  },
  {
   "cell_type": "code",
   "execution_count": null,
   "metadata": {},
   "outputs": [],
   "source": [
    "from keras.preprocessing.image import img_to_array\n",
    "image = img_to_array(image)\n",
    "image = image.reshape((1, image.shape[0], image.shape[1], image.shape[2]))"
   ]
  },
  {
   "cell_type": "code",
   "execution_count": null,
   "metadata": {},
   "outputs": [],
   "source": [
    "from keras.applications.vgg16 import preprocess_input\n",
    "image = preprocess_input(image)"
   ]
  },
  {
   "cell_type": "code",
   "execution_count": 5,
   "metadata": {},
   "outputs": [],
   "source": [
    "yhat = model.predict(image)"
   ]
  },
  {
   "cell_type": "code",
   "execution_count": 6,
   "metadata": {},
   "outputs": [
    {
     "name": "stdout",
     "output_type": "stream",
     "text": [
      "boathouse (36.91%)\n"
     ]
    }
   ],
   "source": [
    "from keras.applications.vgg16 import decode_predictions\n",
    "label = decode_predictions(yhat)\n",
    "label = label[0][0]\n",
    "print('%s (%.2f%%)' % (label[1], label[2]*100))"
   ]
  },
  {
   "cell_type": "code",
   "execution_count": 7,
   "metadata": {},
   "outputs": [],
   "source": [
    "import imutils\n",
    "import time\n",
    "import cv2"
   ]
  },
  {
   "cell_type": "code",
   "execution_count": null,
   "metadata": {},
   "outputs": [],
   "source": [
    "vs = cv2.VideoCapture(0)\n",
    "\n",
    "# ret, frame = vs.read()\n",
    "\n",
    "# frame = imutils.resize(frame, width=224, height=224)\n",
    "# cv2.imshow('img', frame)\n",
    "# print(frame.shape)\n",
    "\n",
    "while True:\n",
    "    ret, frame = vs.read()\n",
    "#     frame = imutils.resize(frame, height=224, width=224)\n",
    "    img =  cv2.resize(frame, (224, 224))\n",
    "    image = cv2.resize(frame, (224, 224))\n",
    "#     print(img.shape)\n",
    "    img = img_to_array(img)\n",
    "    img = img.reshape((1, img.shape[0], img.shape[1], img.shape[2]))\n",
    "    img = preprocess_input(img)\n",
    "    yhat = model.predict(img)\n",
    "    label = decode_predictions(yhat)\n",
    "    label = label[0][0]\n",
    "#     print('%s (%.2f%%)' % (label[1], label[2]*100))\n",
    "    \n",
    "    cv2.putText(image, f'{label[1]}', (10, 30),\n",
    "                cv2.FONT_HERSHEY_SIMPLEX, 0.7, (0,0,255), 2)\n",
    "    cv2.putText(image, f'{label[2]*100}', (300, 30),\n",
    "                cv2.FONT_HERSHEY_SIMPLEX, 0.7, (0,255,0), 2)\n",
    "    \n",
    "    time.sleep(0.2)\n",
    "    # show the frame\n",
    "    cv2.imshow(\"Frame\", image)\n",
    "    key = cv2.waitKey(1) & 0xFF\n",
    "    \n",
    "    # if the 'q' key was pressed, break from the loop\n",
    "    if key == ord('q'):\n",
    "        break\n",
    "        \n",
    "cv2.destroyAllWindows()\n",
    "vs.release()"
   ]
  }
 ],
 "metadata": {
  "kernelspec": {
   "display_name": "Python [conda env:ml]",
   "language": "python",
   "name": "conda-env-ml-py"
  },
  "language_info": {
   "codemirror_mode": {
    "name": "ipython",
    "version": 3
   },
   "file_extension": ".py",
   "mimetype": "text/x-python",
   "name": "python",
   "nbconvert_exporter": "python",
   "pygments_lexer": "ipython3",
   "version": "3.6.6"
  }
 },
 "nbformat": 4,
 "nbformat_minor": 2
}
