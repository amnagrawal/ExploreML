{
 "cells": [
  {
   "cell_type": "code",
   "execution_count": 1,
   "metadata": {
    "scrolled": true
   },
   "outputs": [
    {
     "name": "stderr",
     "output_type": "stream",
     "text": [
      "Using TensorFlow backend.\n",
      "/home/aman/anaconda3/envs/ml/lib/python3.7/site-packages/tensorflow/python/framework/dtypes.py:516: FutureWarning: Passing (type, 1) or '1type' as a synonym of type is deprecated; in a future version of numpy, it will be understood as (type, (1,)) / '(1,)type'.\n",
      "  _np_qint8 = np.dtype([(\"qint8\", np.int8, 1)])\n",
      "/home/aman/anaconda3/envs/ml/lib/python3.7/site-packages/tensorflow/python/framework/dtypes.py:517: FutureWarning: Passing (type, 1) or '1type' as a synonym of type is deprecated; in a future version of numpy, it will be understood as (type, (1,)) / '(1,)type'.\n",
      "  _np_quint8 = np.dtype([(\"quint8\", np.uint8, 1)])\n",
      "/home/aman/anaconda3/envs/ml/lib/python3.7/site-packages/tensorflow/python/framework/dtypes.py:518: FutureWarning: Passing (type, 1) or '1type' as a synonym of type is deprecated; in a future version of numpy, it will be understood as (type, (1,)) / '(1,)type'.\n",
      "  _np_qint16 = np.dtype([(\"qint16\", np.int16, 1)])\n",
      "/home/aman/anaconda3/envs/ml/lib/python3.7/site-packages/tensorflow/python/framework/dtypes.py:519: FutureWarning: Passing (type, 1) or '1type' as a synonym of type is deprecated; in a future version of numpy, it will be understood as (type, (1,)) / '(1,)type'.\n",
      "  _np_quint16 = np.dtype([(\"quint16\", np.uint16, 1)])\n",
      "/home/aman/anaconda3/envs/ml/lib/python3.7/site-packages/tensorflow/python/framework/dtypes.py:520: FutureWarning: Passing (type, 1) or '1type' as a synonym of type is deprecated; in a future version of numpy, it will be understood as (type, (1,)) / '(1,)type'.\n",
      "  _np_qint32 = np.dtype([(\"qint32\", np.int32, 1)])\n",
      "/home/aman/anaconda3/envs/ml/lib/python3.7/site-packages/tensorflow/python/framework/dtypes.py:525: FutureWarning: Passing (type, 1) or '1type' as a synonym of type is deprecated; in a future version of numpy, it will be understood as (type, (1,)) / '(1,)type'.\n",
      "  np_resource = np.dtype([(\"resource\", np.ubyte, 1)])\n",
      "/home/aman/anaconda3/envs/ml/lib/python3.7/site-packages/tensorboard/compat/tensorflow_stub/dtypes.py:541: FutureWarning: Passing (type, 1) or '1type' as a synonym of type is deprecated; in a future version of numpy, it will be understood as (type, (1,)) / '(1,)type'.\n",
      "  _np_qint8 = np.dtype([(\"qint8\", np.int8, 1)])\n",
      "/home/aman/anaconda3/envs/ml/lib/python3.7/site-packages/tensorboard/compat/tensorflow_stub/dtypes.py:542: FutureWarning: Passing (type, 1) or '1type' as a synonym of type is deprecated; in a future version of numpy, it will be understood as (type, (1,)) / '(1,)type'.\n",
      "  _np_quint8 = np.dtype([(\"quint8\", np.uint8, 1)])\n",
      "/home/aman/anaconda3/envs/ml/lib/python3.7/site-packages/tensorboard/compat/tensorflow_stub/dtypes.py:543: FutureWarning: Passing (type, 1) or '1type' as a synonym of type is deprecated; in a future version of numpy, it will be understood as (type, (1,)) / '(1,)type'.\n",
      "  _np_qint16 = np.dtype([(\"qint16\", np.int16, 1)])\n",
      "/home/aman/anaconda3/envs/ml/lib/python3.7/site-packages/tensorboard/compat/tensorflow_stub/dtypes.py:544: FutureWarning: Passing (type, 1) or '1type' as a synonym of type is deprecated; in a future version of numpy, it will be understood as (type, (1,)) / '(1,)type'.\n",
      "  _np_quint16 = np.dtype([(\"quint16\", np.uint16, 1)])\n",
      "/home/aman/anaconda3/envs/ml/lib/python3.7/site-packages/tensorboard/compat/tensorflow_stub/dtypes.py:545: FutureWarning: Passing (type, 1) or '1type' as a synonym of type is deprecated; in a future version of numpy, it will be understood as (type, (1,)) / '(1,)type'.\n",
      "  _np_qint32 = np.dtype([(\"qint32\", np.int32, 1)])\n",
      "/home/aman/anaconda3/envs/ml/lib/python3.7/site-packages/tensorboard/compat/tensorflow_stub/dtypes.py:550: FutureWarning: Passing (type, 1) or '1type' as a synonym of type is deprecated; in a future version of numpy, it will be understood as (type, (1,)) / '(1,)type'.\n",
      "  np_resource = np.dtype([(\"resource\", np.ubyte, 1)])\n"
     ]
    }
   ],
   "source": [
    "import numpy as np\n",
    "from sklearn.model_selection import train_test_split\n",
    "from sklearn.metrics import fbeta_score\n",
    "from keras import backend\n",
    "%config Completer.use_jedi = False\n",
    "\n",
    "from keras.preprocessing.image import ImageDataGenerator\n",
    "from keras.models import Sequential\n",
    "from keras.layers import Conv2D\n",
    "from keras.layers import MaxPooling2D, Dense, Flatten, Dropout\n",
    "from keras.optimizers import SGD\n",
    "from matplotlib import pyplot as plt\n",
    "import sys"
   ]
  },
  {
   "cell_type": "code",
   "execution_count": 2,
   "metadata": {},
   "outputs": [],
   "source": [
    "def load_dataset():\n",
    "    data = np.load('./planet_data.npz')\n",
    "    X, y = data['arr_0'], data['arr_1']\n",
    "    trainX, testX, trainY, testY = train_test_split(X, y, test_size=0.3, random_state=1)\n",
    "    print(trainX.shape, testX.shape, trainY.shape, testY.shape)\n",
    "    return trainX, testX, trainY, testY"
   ]
  },
  {
   "cell_type": "code",
   "execution_count": 3,
   "metadata": {},
   "outputs": [],
   "source": [
    "def fbeta(y_true, y_pred, beta=2):\n",
    "    y_pred = backend.clip(y_pred, 0, 1)\n",
    "    \n",
    "    tp = backend.sum(backend.round(backend.clip(y_true * y_pred, 0, 1)), axis=1)\n",
    "    fp = backend.sum(backend.round(backend.clip(y_pred - y_true, 0, 1)), axis=1)\n",
    "    fn = backend.sum(backend.round(backend.clip(y_true - y_pred, 0, 1)), axis=1)\n",
    "    \n",
    "    p = tp/(tp + fp + backend.epsilon())\n",
    "    r = tp/(tp + fn + backend.epsilon())\n",
    "    bb = beta ** 2\n",
    "    fbeta_score = backend.mean((1+bb) * (p*r) / (bb*p + r + backend.epsilon()))\n",
    "    return fbeta_score"
   ]
  },
  {
   "cell_type": "code",
   "execution_count": 4,
   "metadata": {},
   "outputs": [
    {
     "data": {
      "text/plain": [
       "\"\\ntrainX, testX, trainY, testY = load_dataset()\\n\\n# make all one predictions\\ntrain_yhat = np.asarray([np.ones(trainY.shape[1]) for _ in range(trainY.shape[0])])\\ntest_yhat = np.asarray([np.ones(testY.shape[1]) for _ in range(testY.shape[0])])\\n\\n# evaluate predictions with sklearn\\ntrain_score = fbeta_score(trainY, train_yhat, 2, average='samples')\\ntest_score = fbeta_score(testY, test_yhat, 2, average='samples')\\nprint('All Ones (sklearn): train=%.3f, test=%.3f' % (train_score, test_score))\\n\\n# evaluate predictions with keras\\ntrain_score = fbeta(backend.variable(trainY), backend.variable(train_yhat))\\ntest_score = fbeta(backend.variable(testY), backend.variable(test_yhat))\\nprint('All Ones (keras): train=%.3f, test=%.3f' % (train_score, test_score))\\n\""
      ]
     },
     "execution_count": 4,
     "metadata": {},
     "output_type": "execute_result"
    }
   ],
   "source": [
    "'''\n",
    "trainX, testX, trainY, testY = load_dataset()\n",
    "\n",
    "# make all one predictions\n",
    "train_yhat = np.asarray([np.ones(trainY.shape[1]) for _ in range(trainY.shape[0])])\n",
    "test_yhat = np.asarray([np.ones(testY.shape[1]) for _ in range(testY.shape[0])])\n",
    "\n",
    "# evaluate predictions with sklearn\n",
    "train_score = fbeta_score(trainY, train_yhat, 2, average='samples')\n",
    "test_score = fbeta_score(testY, test_yhat, 2, average='samples')\n",
    "print('All Ones (sklearn): train=%.3f, test=%.3f' % (train_score, test_score))\n",
    "\n",
    "# evaluate predictions with keras\n",
    "train_score = fbeta(backend.variable(trainY), backend.variable(train_yhat))\n",
    "test_score = fbeta(backend.variable(testY), backend.variable(test_yhat))\n",
    "print('All Ones (keras): train=%.3f, test=%.3f' % (train_score, test_score))\n",
    "'''"
   ]
  },
  {
   "cell_type": "code",
   "execution_count": 5,
   "metadata": {},
   "outputs": [],
   "source": [
    "def define_model(in_shape=(128, 128, 3), out_shape=17):\n",
    "    model = Sequential()\n",
    "    model.add(Conv2D(32, (3, 3), activation='relu', kernel_initializer='he_uniform', padding='same', input_shape=in_shape))\n",
    "    model.add(Conv2D(32, (3, 3), activation='relu', kernel_initializer='he_uniform', padding='same'))\n",
    "    model.add(MaxPooling2D((2, 2)))\n",
    "    model.add(Dropout(0.2))\n",
    "    model.add(Conv2D(64, (3, 3), activation='relu', kernel_initializer='he_uniform', padding='same'))\n",
    "    model.add(Conv2D(64, (3, 3), activation='relu', kernel_initializer='he_uniform', padding='same'))\n",
    "    model.add(MaxPooling2D((2, 2)))\n",
    "    model.add(Dropout(0.2))\n",
    "    model.add(Conv2D(128, (3, 3), activation='relu', kernel_initializer='he_uniform', padding='same'))\n",
    "    model.add(Conv2D(128, (3, 3), activation='relu', kernel_initializer='he_uniform', padding='same'))\n",
    "    model.add(MaxPooling2D((2, 2)))\n",
    "    model.add(Dropout(0.2))\n",
    "    model.add(Flatten())\n",
    "    model.add(Dense(128, activation='relu', kernel_initializer='he_uniform'))\n",
    "    model.add(Dropout(0.5))\n",
    "    model.add(Dense(out_shape, activation='sigmoid'))\n",
    "    # compile model\n",
    "    opt = SGD(lr=0.01, momentum=0.9)\n",
    "    model.compile(optimizer=opt, loss='binary_crossentropy', metrics=[fbeta])\n",
    "    return model"
   ]
  },
  {
   "cell_type": "code",
   "execution_count": 6,
   "metadata": {},
   "outputs": [],
   "source": [
    "def summarize_diagnostics(history):\n",
    "    # plot loss\n",
    "    plt.subplot(211)\n",
    "    plt.title('Cross Entropy Loss')\n",
    "    plt.plot(history.history['loss'], color='blue', label='train')\n",
    "    plt.plot(history.history['val_loss'], color='orange', label='test')\n",
    "    # plot accuracy\n",
    "    plt.subplot(212)\n",
    "    plt.title('Fbeta')\n",
    "    plt.plot(history.history['fbeta'], color='blue', label='train')\n",
    "    plt.plot(history.history['val_fbeta'], color='orange', label='test')\n",
    "    plt.show()"
   ]
  },
  {
   "cell_type": "code",
   "execution_count": 7,
   "metadata": {},
   "outputs": [],
   "source": [
    "def run_test_harness():\n",
    "    # load dataset\n",
    "    print(\"Loading dataset...\")\n",
    "    trainX, testX, trainY, testY = load_dataset()\n",
    "    # create data generator\n",
    "    print(\"Creating data generator...\")\n",
    "    train_datagen = ImageDataGenerator(rescale=1.0/255.0, horizontal_flip=True, vertical_flip=True, rotation_range=90)\n",
    "    test_datagen = ImageDataGenerator(rescale=1.0/255.0)\n",
    "    # prepare iterators\n",
    "    print(\"Preparing iterators... \")\n",
    "    train_it = train_datagen.flow(trainX, trainY, batch_size=128)\n",
    "    test_it = test_datagen.flow(testX, testY, batch_size=128)\n",
    "    # define model\n",
    "    print(\"Building model... \")\n",
    "    model = define_model()\n",
    "    # fit model\n",
    "    print(\"Training...\")\n",
    "    history = model.fit_generator(train_it, steps_per_epoch=len(train_it),\n",
    "        validation_data=test_it, validation_steps=len(test_it), epochs=30, verbose=1)\n",
    "    # evaluate model\n",
    "    print(\"Evaluating...\")\n",
    "    loss, fbeta = model.evaluate_generator(test_it, steps=len(test_it), verbose=0)\n",
    "    print('> loss=%.3f, fbeta=%.3f' % (loss, fbeta))\n",
    "    # learning curves\n",
    "    summarize_diagnostics(history)"
   ]
  },
  {
   "cell_type": "code",
   "execution_count": 8,
   "metadata": {},
   "outputs": [
    {
     "name": "stdout",
     "output_type": "stream",
     "text": [
      "Loading dataset...\n",
      "(28335, 128, 128, 3) (12144, 128, 128, 3) (28335, 17) (12144, 17)\n",
      "Creating data generator...\n",
      "Preparing iterators... \n",
      "Building model... \n",
      "WARNING:tensorflow:From /home/aman/anaconda3/envs/ml/lib/python3.7/site-packages/keras/backend/tensorflow_backend.py:4070: The name tf.nn.max_pool is deprecated. Please use tf.nn.max_pool2d instead.\n",
      "\n",
      "WARNING:tensorflow:From /home/aman/anaconda3/envs/ml/lib/python3.7/site-packages/tensorflow/python/ops/nn_impl.py:180: add_dispatch_support.<locals>.wrapper (from tensorflow.python.ops.array_ops) is deprecated and will be removed in a future version.\n",
      "Instructions for updating:\n",
      "Use tf.where in 2.0, which has the same broadcast rule as np.where\n",
      "Training...\n",
      "WARNING:tensorflow:From /home/aman/anaconda3/envs/ml/lib/python3.7/site-packages/keras/backend/tensorflow_backend.py:422: The name tf.global_variables is deprecated. Please use tf.compat.v1.global_variables instead.\n",
      "\n",
      "Epoch 1/30\n",
      "222/222 [==============================] - 110s 496ms/step - loss: 0.2816 - fbeta: 0.6218 - val_loss: 0.2605 - val_fbeta: 0.6958\n",
      "Epoch 2/30\n",
      "222/222 [==============================] - 99s 446ms/step - loss: 0.2315 - fbeta: 0.6730 - val_loss: 0.2541 - val_fbeta: 0.7148\n",
      "Epoch 3/30\n",
      "222/222 [==============================] - 101s 455ms/step - loss: 0.2219 - fbeta: 0.6851 - val_loss: 0.2225 - val_fbeta: 0.7029\n",
      "Epoch 4/30\n",
      "222/222 [==============================] - 97s 437ms/step - loss: 0.2151 - fbeta: 0.6949 - val_loss: 0.1969 - val_fbeta: 0.6982\n",
      "Epoch 5/30\n",
      "222/222 [==============================] - 99s 447ms/step - loss: 0.2110 - fbeta: 0.6986 - val_loss: 0.2147 - val_fbeta: 0.7245\n",
      "Epoch 6/30\n",
      "222/222 [==============================] - 100s 449ms/step - loss: 0.2084 - fbeta: 0.7070 - val_loss: 0.1917 - val_fbeta: 0.7156\n",
      "Epoch 7/30\n",
      "222/222 [==============================] - 101s 453ms/step - loss: 0.2034 - fbeta: 0.7154 - val_loss: 0.2039 - val_fbeta: 0.7282\n",
      "Epoch 8/30\n",
      "222/222 [==============================] - 96s 431ms/step - loss: 0.2010 - fbeta: 0.7184 - val_loss: 0.2099 - val_fbeta: 0.7356\n",
      "Epoch 9/30\n",
      "222/222 [==============================] - 100s 452ms/step - loss: 0.1972 - fbeta: 0.7312 - val_loss: 0.2040 - val_fbeta: 0.7452\n",
      "Epoch 10/30\n",
      "222/222 [==============================] - 100s 451ms/step - loss: 0.1938 - fbeta: 0.7357 - val_loss: 0.1716 - val_fbeta: 0.7453\n",
      "Epoch 11/30\n",
      "222/222 [==============================] - 107s 481ms/step - loss: 0.1924 - fbeta: 0.7391 - val_loss: 0.1891 - val_fbeta: 0.7488\n",
      "Epoch 12/30\n",
      "222/222 [==============================] - 102s 458ms/step - loss: 0.1895 - fbeta: 0.7425 - val_loss: 0.1824 - val_fbeta: 0.7574\n",
      "Epoch 13/30\n",
      "222/222 [==============================] - 101s 455ms/step - loss: 0.1870 - fbeta: 0.7495 - val_loss: 0.1881 - val_fbeta: 0.7533\n",
      "Epoch 14/30\n",
      "222/222 [==============================] - 107s 484ms/step - loss: 0.1862 - fbeta: 0.7502 - val_loss: 0.1710 - val_fbeta: 0.7701\n",
      "Epoch 15/30\n",
      "222/222 [==============================] - 102s 460ms/step - loss: 0.1838 - fbeta: 0.7541 - val_loss: 0.1690 - val_fbeta: 0.7725\n",
      "Epoch 16/30\n",
      "222/222 [==============================] - 109s 489ms/step - loss: 0.1817 - fbeta: 0.7579 - val_loss: 0.1683 - val_fbeta: 0.7732\n",
      "Epoch 17/30\n",
      "222/222 [==============================] - 101s 453ms/step - loss: 0.1788 - fbeta: 0.7603 - val_loss: 0.1665 - val_fbeta: 0.7739\n",
      "Epoch 18/30\n",
      "222/222 [==============================] - 108s 486ms/step - loss: 0.1768 - fbeta: 0.7636 - val_loss: 0.1530 - val_fbeta: 0.7793\n",
      "Epoch 19/30\n",
      "222/222 [==============================] - 105s 475ms/step - loss: 0.1747 - fbeta: 0.7677 - val_loss: 0.1573 - val_fbeta: 0.7825\n",
      "Epoch 20/30\n",
      "222/222 [==============================] - 107s 483ms/step - loss: 0.1733 - fbeta: 0.7705 - val_loss: 0.1474 - val_fbeta: 0.7939\n",
      "Epoch 21/30\n",
      "222/222 [==============================] - 103s 463ms/step - loss: 0.1719 - fbeta: 0.7703 - val_loss: 0.1597 - val_fbeta: 0.7945\n",
      "Epoch 22/30\n",
      "222/222 [==============================] - 98s 441ms/step - loss: 0.1698 - fbeta: 0.7757 - val_loss: 0.1409 - val_fbeta: 0.7902\n",
      "Epoch 23/30\n",
      "222/222 [==============================] - 109s 489ms/step - loss: 0.1682 - fbeta: 0.7774 - val_loss: 0.1725 - val_fbeta: 0.7980\n",
      "Epoch 24/30\n",
      "222/222 [==============================] - 109s 492ms/step - loss: 0.1670 - fbeta: 0.7781 - val_loss: 0.1702 - val_fbeta: 0.7968\n",
      "Epoch 25/30\n",
      "222/222 [==============================] - 98s 440ms/step - loss: 0.1663 - fbeta: 0.7807 - val_loss: 0.1642 - val_fbeta: 0.7931\n",
      "Epoch 26/30\n",
      "222/222 [==============================] - 105s 472ms/step - loss: 0.1642 - fbeta: 0.7819 - val_loss: 0.1656 - val_fbeta: 0.8013\n",
      "Epoch 27/30\n",
      "222/222 [==============================] - 112s 504ms/step - loss: 0.1643 - fbeta: 0.7817 - val_loss: 0.1603 - val_fbeta: 0.8031\n",
      "Epoch 28/30\n",
      "222/222 [==============================] - 99s 447ms/step - loss: 0.1620 - fbeta: 0.7842 - val_loss: 0.1466 - val_fbeta: 0.8054\n",
      "Epoch 29/30\n",
      "222/222 [==============================] - 107s 481ms/step - loss: 0.1613 - fbeta: 0.7848 - val_loss: 0.1455 - val_fbeta: 0.8020\n",
      "Epoch 30/30\n",
      "222/222 [==============================] - 108s 486ms/step - loss: 0.1598 - fbeta: 0.7877 - val_loss: 0.1324 - val_fbeta: 0.8072\n",
      "Evaluating...\n",
      "> loss=0.169, fbeta=0.807\n"
     ]
    },
    {
     "data": {
      "image/png": "[encoded data removed]",
      "text/plain": [
       "<Figure size 432x288 with 2 Axes>"
      ]
     },
     "metadata": {
      "needs_background": "light"
     },
     "output_type": "display_data"
    }
   ],
   "source": [
    "run_test_harness()"
   ]
  }
 ],
 "metadata": {
  "kernelspec": {
   "display_name": "Python 3",
   "language": "python",
   "name": "python3"
  },
  "language_info": {
   "codemirror_mode": {
    "name": "ipython",
    "version": 3
   },
   "file_extension": ".py",
   "mimetype": "text/x-python",
   "name": "python",
   "nbconvert_exporter": "python",
   "pygments_lexer": "ipython3",
   "version": "3.7.4"
  },
  "varInspector": {
   "cols": {
    "lenName": 16,
    "lenType": 16,
    "lenVar": 40
   },
   "kernels_config": {
    "python": {
     "delete_cmd_postfix": "",
     "delete_cmd_prefix": "del ",
     "library": "var_list.py",
     "varRefreshCmd": "print(var_dic_list())"
    },
    "r": {
     "delete_cmd_postfix": ") ",
     "delete_cmd_prefix": "rm(",
     "library": "var_list.r",
     "varRefreshCmd": "cat(var_dic_list()) "
    }
   },
   "types_to_exclude": [
    "module",
    "function",
    "builtin_function_or_method",
    "instance",
    "_Feature"
   ],
   "window_display": false
  }
 },
 "nbformat": 4,
 "nbformat_minor": 2
}
